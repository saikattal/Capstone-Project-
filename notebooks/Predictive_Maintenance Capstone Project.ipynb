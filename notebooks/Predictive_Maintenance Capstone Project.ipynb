{
  "cells": [
    {
      "cell_type": "markdown",
      "source": [
        "# <span style=\"color: #2e6c80;\">**Capstone Project**</span>\n",
        "\n",
        "## Automated Anomaly Detection for Predictive Maintenance\n",
        "\n",
        "**Problem Statement:**\n",
        "\n",
        "Many different industries need predictive maintenance solutions to reduce risks and gain actionable insights through processing data from their equipment.\n",
        "Although system failure is a very general issue that can occur in any machine, predicting the failure and taking steps to prevent such failure is most important for any machine or software application.\n",
        "Predictive maintenance evaluates the condition of equipment by performing online monitoring. The goal is to perform maintenance before the equipment degrades or breaks down.\n",
        "This Capstone project is aimed at predicting the machine breakdown by identifying the anomalies in the data.\n",
        "The data we have contains about 18000+ rows collected over few days. The column ‘y’ contains the binary labels, with 1 denoting there is an anomaly. The rest of the columns are predictors."
      ],
      "metadata": {
        "id": "6dG7DwCKOxR7"
      },
      "id": "6dG7DwCKOxR7"
    },
    {
      "cell_type": "markdown",
      "source": [
        "### Loading the required libraries"
      ],
      "metadata": {
        "id": "mRkjzrP4Po7W"
      },
      "id": "mRkjzrP4Po7W"
    },
    {
      "cell_type": "code",
      "execution_count": 143,
      "id": "aa3826b8",
      "metadata": {
        "id": "aa3826b8"
      },
      "outputs": [],
      "source": [
        "import pandas as pd\n",
        "import numpy as np\n",
        "import matplotlib.pyplot as plt\n",
        "%matplotlib inline\n",
        "import seaborn as sns\n",
        "from sklearn.model_selection import train_test_split,cross_val_score\n",
        "from sklearn.preprocessing import StandardScaler, LabelEncoder\n",
        "from sklearn.ensemble import RandomForestClassifier\n",
        "from sklearn.metrics import classification_report, confusion_matrix, accuracy_score"
      ]
    },
    {
      "cell_type": "code",
      "execution_count": 144,
      "id": "013636c7",
      "metadata": {
        "colab": {
          "base_uri": "https://localhost:8080/",
          "height": 429
        },
        "id": "013636c7",
        "outputId": "b1d2e861-1fdc-4884-fcf6-3ec1981166b1"
      },
      "outputs": [
        {
          "output_type": "execute_result",
          "data": {
            "text/plain": [
              "                 time  y        x1        x2        x3         x4        x5  \\\n",
              "0 1999-05-01 00:00:00  0  0.376665 -4.596435 -4.095756  13.497687 -0.118830   \n",
              "1 1999-05-01 00:02:00  0  0.475720 -4.542502 -4.018359  16.230659 -0.128733   \n",
              "2 1999-05-01 00:04:00  0  0.363848 -4.681394 -4.353147  14.127997 -0.138636   \n",
              "3 1999-05-01 00:06:00  0  0.301590 -4.758934 -4.023612  13.161566 -0.148142   \n",
              "4 1999-05-01 00:08:00  0  0.265578 -4.749928 -4.333150  15.267340 -0.155314   \n",
              "\n",
              "          x6        x7        x8  ...        x51        x52       x54  \\\n",
              "0 -20.669883  0.000732 -0.061114  ...  29.984624  10.091721 -4.936434   \n",
              "1 -18.758079  0.000732 -0.061114  ...  29.984624  10.095871 -4.937179   \n",
              "2 -17.836632  0.010803 -0.061114  ...  29.984624  10.100265 -4.937924   \n",
              "3 -18.517601  0.002075 -0.061114  ...  29.984624  10.104660 -4.938669   \n",
              "4 -17.505913  0.000732 -0.061114  ...  29.984624  10.109054 -4.939414   \n",
              "\n",
              "         x55        x56       x57       x58       x59       x60  y.1  \n",
              "0 -24.590146  18.515436  3.473400  0.033444  0.953219  0.006076    0  \n",
              "1 -32.413266  22.760065  2.682933  0.033536  1.090502  0.006083    0  \n",
              "2 -34.183774  27.004663  3.537487  0.033629  1.840540  0.006090    0  \n",
              "3 -35.954281  21.672449  3.986095  0.033721  2.554880  0.006097    0  \n",
              "4 -37.724789  21.907251  3.601573  0.033777  1.410494  0.006105    0  \n",
              "\n",
              "[5 rows x 62 columns]"
            ],
            "text/html": [
              "\n",
              "  <div id=\"df-07d680d6-c362-43b9-ace8-57608a9d45a3\" class=\"colab-df-container\">\n",
              "    <div>\n",
              "<style scoped>\n",
              "    .dataframe tbody tr th:only-of-type {\n",
              "        vertical-align: middle;\n",
              "    }\n",
              "\n",
              "    .dataframe tbody tr th {\n",
              "        vertical-align: top;\n",
              "    }\n",
              "\n",
              "    .dataframe thead th {\n",
              "        text-align: right;\n",
              "    }\n",
              "</style>\n",
              "<table border=\"1\" class=\"dataframe\">\n",
              "  <thead>\n",
              "    <tr style=\"text-align: right;\">\n",
              "      <th></th>\n",
              "      <th>time</th>\n",
              "      <th>y</th>\n",
              "      <th>x1</th>\n",
              "      <th>x2</th>\n",
              "      <th>x3</th>\n",
              "      <th>x4</th>\n",
              "      <th>x5</th>\n",
              "      <th>x6</th>\n",
              "      <th>x7</th>\n",
              "      <th>x8</th>\n",
              "      <th>...</th>\n",
              "      <th>x51</th>\n",
              "      <th>x52</th>\n",
              "      <th>x54</th>\n",
              "      <th>x55</th>\n",
              "      <th>x56</th>\n",
              "      <th>x57</th>\n",
              "      <th>x58</th>\n",
              "      <th>x59</th>\n",
              "      <th>x60</th>\n",
              "      <th>y.1</th>\n",
              "    </tr>\n",
              "  </thead>\n",
              "  <tbody>\n",
              "    <tr>\n",
              "      <th>0</th>\n",
              "      <td>1999-05-01 00:00:00</td>\n",
              "      <td>0</td>\n",
              "      <td>0.376665</td>\n",
              "      <td>-4.596435</td>\n",
              "      <td>-4.095756</td>\n",
              "      <td>13.497687</td>\n",
              "      <td>-0.118830</td>\n",
              "      <td>-20.669883</td>\n",
              "      <td>0.000732</td>\n",
              "      <td>-0.061114</td>\n",
              "      <td>...</td>\n",
              "      <td>29.984624</td>\n",
              "      <td>10.091721</td>\n",
              "      <td>-4.936434</td>\n",
              "      <td>-24.590146</td>\n",
              "      <td>18.515436</td>\n",
              "      <td>3.473400</td>\n",
              "      <td>0.033444</td>\n",
              "      <td>0.953219</td>\n",
              "      <td>0.006076</td>\n",
              "      <td>0</td>\n",
              "    </tr>\n",
              "    <tr>\n",
              "      <th>1</th>\n",
              "      <td>1999-05-01 00:02:00</td>\n",
              "      <td>0</td>\n",
              "      <td>0.475720</td>\n",
              "      <td>-4.542502</td>\n",
              "      <td>-4.018359</td>\n",
              "      <td>16.230659</td>\n",
              "      <td>-0.128733</td>\n",
              "      <td>-18.758079</td>\n",
              "      <td>0.000732</td>\n",
              "      <td>-0.061114</td>\n",
              "      <td>...</td>\n",
              "      <td>29.984624</td>\n",
              "      <td>10.095871</td>\n",
              "      <td>-4.937179</td>\n",
              "      <td>-32.413266</td>\n",
              "      <td>22.760065</td>\n",
              "      <td>2.682933</td>\n",
              "      <td>0.033536</td>\n",
              "      <td>1.090502</td>\n",
              "      <td>0.006083</td>\n",
              "      <td>0</td>\n",
              "    </tr>\n",
              "    <tr>\n",
              "      <th>2</th>\n",
              "      <td>1999-05-01 00:04:00</td>\n",
              "      <td>0</td>\n",
              "      <td>0.363848</td>\n",
              "      <td>-4.681394</td>\n",
              "      <td>-4.353147</td>\n",
              "      <td>14.127997</td>\n",
              "      <td>-0.138636</td>\n",
              "      <td>-17.836632</td>\n",
              "      <td>0.010803</td>\n",
              "      <td>-0.061114</td>\n",
              "      <td>...</td>\n",
              "      <td>29.984624</td>\n",
              "      <td>10.100265</td>\n",
              "      <td>-4.937924</td>\n",
              "      <td>-34.183774</td>\n",
              "      <td>27.004663</td>\n",
              "      <td>3.537487</td>\n",
              "      <td>0.033629</td>\n",
              "      <td>1.840540</td>\n",
              "      <td>0.006090</td>\n",
              "      <td>0</td>\n",
              "    </tr>\n",
              "    <tr>\n",
              "      <th>3</th>\n",
              "      <td>1999-05-01 00:06:00</td>\n",
              "      <td>0</td>\n",
              "      <td>0.301590</td>\n",
              "      <td>-4.758934</td>\n",
              "      <td>-4.023612</td>\n",
              "      <td>13.161566</td>\n",
              "      <td>-0.148142</td>\n",
              "      <td>-18.517601</td>\n",
              "      <td>0.002075</td>\n",
              "      <td>-0.061114</td>\n",
              "      <td>...</td>\n",
              "      <td>29.984624</td>\n",
              "      <td>10.104660</td>\n",
              "      <td>-4.938669</td>\n",
              "      <td>-35.954281</td>\n",
              "      <td>21.672449</td>\n",
              "      <td>3.986095</td>\n",
              "      <td>0.033721</td>\n",
              "      <td>2.554880</td>\n",
              "      <td>0.006097</td>\n",
              "      <td>0</td>\n",
              "    </tr>\n",
              "    <tr>\n",
              "      <th>4</th>\n",
              "      <td>1999-05-01 00:08:00</td>\n",
              "      <td>0</td>\n",
              "      <td>0.265578</td>\n",
              "      <td>-4.749928</td>\n",
              "      <td>-4.333150</td>\n",
              "      <td>15.267340</td>\n",
              "      <td>-0.155314</td>\n",
              "      <td>-17.505913</td>\n",
              "      <td>0.000732</td>\n",
              "      <td>-0.061114</td>\n",
              "      <td>...</td>\n",
              "      <td>29.984624</td>\n",
              "      <td>10.109054</td>\n",
              "      <td>-4.939414</td>\n",
              "      <td>-37.724789</td>\n",
              "      <td>21.907251</td>\n",
              "      <td>3.601573</td>\n",
              "      <td>0.033777</td>\n",
              "      <td>1.410494</td>\n",
              "      <td>0.006105</td>\n",
              "      <td>0</td>\n",
              "    </tr>\n",
              "  </tbody>\n",
              "</table>\n",
              "<p>5 rows × 62 columns</p>\n",
              "</div>\n",
              "    <div class=\"colab-df-buttons\">\n",
              "\n",
              "  <div class=\"colab-df-container\">\n",
              "    <button class=\"colab-df-convert\" onclick=\"convertToInteractive('df-07d680d6-c362-43b9-ace8-57608a9d45a3')\"\n",
              "            title=\"Convert this dataframe to an interactive table.\"\n",
              "            style=\"display:none;\">\n",
              "\n",
              "  <svg xmlns=\"http://www.w3.org/2000/svg\" height=\"24px\" viewBox=\"0 -960 960 960\">\n",
              "    <path d=\"M120-120v-720h720v720H120Zm60-500h600v-160H180v160Zm220 220h160v-160H400v160Zm0 220h160v-160H400v160ZM180-400h160v-160H180v160Zm440 0h160v-160H620v160ZM180-180h160v-160H180v160Zm440 0h160v-160H620v160Z\"/>\n",
              "  </svg>\n",
              "    </button>\n",
              "\n",
              "  <style>\n",
              "    .colab-df-container {\n",
              "      display:flex;\n",
              "      gap: 12px;\n",
              "    }\n",
              "\n",
              "    .colab-df-convert {\n",
              "      background-color: #E8F0FE;\n",
              "      border: none;\n",
              "      border-radius: 50%;\n",
              "      cursor: pointer;\n",
              "      display: none;\n",
              "      fill: #1967D2;\n",
              "      height: 32px;\n",
              "      padding: 0 0 0 0;\n",
              "      width: 32px;\n",
              "    }\n",
              "\n",
              "    .colab-df-convert:hover {\n",
              "      background-color: #E2EBFA;\n",
              "      box-shadow: 0px 1px 2px rgba(60, 64, 67, 0.3), 0px 1px 3px 1px rgba(60, 64, 67, 0.15);\n",
              "      fill: #174EA6;\n",
              "    }\n",
              "\n",
              "    .colab-df-buttons div {\n",
              "      margin-bottom: 4px;\n",
              "    }\n",
              "\n",
              "    [theme=dark] .colab-df-convert {\n",
              "      background-color: #3B4455;\n",
              "      fill: #D2E3FC;\n",
              "    }\n",
              "\n",
              "    [theme=dark] .colab-df-convert:hover {\n",
              "      background-color: #434B5C;\n",
              "      box-shadow: 0px 1px 3px 1px rgba(0, 0, 0, 0.15);\n",
              "      filter: drop-shadow(0px 1px 2px rgba(0, 0, 0, 0.3));\n",
              "      fill: #FFFFFF;\n",
              "    }\n",
              "  </style>\n",
              "\n",
              "    <script>\n",
              "      const buttonEl =\n",
              "        document.querySelector('#df-07d680d6-c362-43b9-ace8-57608a9d45a3 button.colab-df-convert');\n",
              "      buttonEl.style.display =\n",
              "        google.colab.kernel.accessAllowed ? 'block' : 'none';\n",
              "\n",
              "      async function convertToInteractive(key) {\n",
              "        const element = document.querySelector('#df-07d680d6-c362-43b9-ace8-57608a9d45a3');\n",
              "        const dataTable =\n",
              "          await google.colab.kernel.invokeFunction('convertToInteractive',\n",
              "                                                    [key], {});\n",
              "        if (!dataTable) return;\n",
              "\n",
              "        const docLinkHtml = 'Like what you see? Visit the ' +\n",
              "          '<a target=\"_blank\" href=https://colab.research.google.com/notebooks/data_table.ipynb>data table notebook</a>'\n",
              "          + ' to learn more about interactive tables.';\n",
              "        element.innerHTML = '';\n",
              "        dataTable['output_type'] = 'display_data';\n",
              "        await google.colab.output.renderOutput(dataTable, element);\n",
              "        const docLink = document.createElement('div');\n",
              "        docLink.innerHTML = docLinkHtml;\n",
              "        element.appendChild(docLink);\n",
              "      }\n",
              "    </script>\n",
              "  </div>\n",
              "\n",
              "\n",
              "<div id=\"df-11cc4629-6b34-4003-8363-7f7f37d862fe\">\n",
              "  <button class=\"colab-df-quickchart\" onclick=\"quickchart('df-11cc4629-6b34-4003-8363-7f7f37d862fe')\"\n",
              "            title=\"Suggest charts\"\n",
              "            style=\"display:none;\">\n",
              "\n",
              "<svg xmlns=\"http://www.w3.org/2000/svg\" height=\"24px\"viewBox=\"0 0 24 24\"\n",
              "     width=\"24px\">\n",
              "    <g>\n",
              "        <path d=\"M19 3H5c-1.1 0-2 .9-2 2v14c0 1.1.9 2 2 2h14c1.1 0 2-.9 2-2V5c0-1.1-.9-2-2-2zM9 17H7v-7h2v7zm4 0h-2V7h2v10zm4 0h-2v-4h2v4z\"/>\n",
              "    </g>\n",
              "</svg>\n",
              "  </button>\n",
              "\n",
              "<style>\n",
              "  .colab-df-quickchart {\n",
              "      --bg-color: #E8F0FE;\n",
              "      --fill-color: #1967D2;\n",
              "      --hover-bg-color: #E2EBFA;\n",
              "      --hover-fill-color: #174EA6;\n",
              "      --disabled-fill-color: #AAA;\n",
              "      --disabled-bg-color: #DDD;\n",
              "  }\n",
              "\n",
              "  [theme=dark] .colab-df-quickchart {\n",
              "      --bg-color: #3B4455;\n",
              "      --fill-color: #D2E3FC;\n",
              "      --hover-bg-color: #434B5C;\n",
              "      --hover-fill-color: #FFFFFF;\n",
              "      --disabled-bg-color: #3B4455;\n",
              "      --disabled-fill-color: #666;\n",
              "  }\n",
              "\n",
              "  .colab-df-quickchart {\n",
              "    background-color: var(--bg-color);\n",
              "    border: none;\n",
              "    border-radius: 50%;\n",
              "    cursor: pointer;\n",
              "    display: none;\n",
              "    fill: var(--fill-color);\n",
              "    height: 32px;\n",
              "    padding: 0;\n",
              "    width: 32px;\n",
              "  }\n",
              "\n",
              "  .colab-df-quickchart:hover {\n",
              "    background-color: var(--hover-bg-color);\n",
              "    box-shadow: 0 1px 2px rgba(60, 64, 67, 0.3), 0 1px 3px 1px rgba(60, 64, 67, 0.15);\n",
              "    fill: var(--button-hover-fill-color);\n",
              "  }\n",
              "\n",
              "  .colab-df-quickchart-complete:disabled,\n",
              "  .colab-df-quickchart-complete:disabled:hover {\n",
              "    background-color: var(--disabled-bg-color);\n",
              "    fill: var(--disabled-fill-color);\n",
              "    box-shadow: none;\n",
              "  }\n",
              "\n",
              "  .colab-df-spinner {\n",
              "    border: 2px solid var(--fill-color);\n",
              "    border-color: transparent;\n",
              "    border-bottom-color: var(--fill-color);\n",
              "    animation:\n",
              "      spin 1s steps(1) infinite;\n",
              "  }\n",
              "\n",
              "  @keyframes spin {\n",
              "    0% {\n",
              "      border-color: transparent;\n",
              "      border-bottom-color: var(--fill-color);\n",
              "      border-left-color: var(--fill-color);\n",
              "    }\n",
              "    20% {\n",
              "      border-color: transparent;\n",
              "      border-left-color: var(--fill-color);\n",
              "      border-top-color: var(--fill-color);\n",
              "    }\n",
              "    30% {\n",
              "      border-color: transparent;\n",
              "      border-left-color: var(--fill-color);\n",
              "      border-top-color: var(--fill-color);\n",
              "      border-right-color: var(--fill-color);\n",
              "    }\n",
              "    40% {\n",
              "      border-color: transparent;\n",
              "      border-right-color: var(--fill-color);\n",
              "      border-top-color: var(--fill-color);\n",
              "    }\n",
              "    60% {\n",
              "      border-color: transparent;\n",
              "      border-right-color: var(--fill-color);\n",
              "    }\n",
              "    80% {\n",
              "      border-color: transparent;\n",
              "      border-right-color: var(--fill-color);\n",
              "      border-bottom-color: var(--fill-color);\n",
              "    }\n",
              "    90% {\n",
              "      border-color: transparent;\n",
              "      border-bottom-color: var(--fill-color);\n",
              "    }\n",
              "  }\n",
              "</style>\n",
              "\n",
              "  <script>\n",
              "    async function quickchart(key) {\n",
              "      const quickchartButtonEl =\n",
              "        document.querySelector('#' + key + ' button');\n",
              "      quickchartButtonEl.disabled = true;  // To prevent multiple clicks.\n",
              "      quickchartButtonEl.classList.add('colab-df-spinner');\n",
              "      try {\n",
              "        const charts = await google.colab.kernel.invokeFunction(\n",
              "            'suggestCharts', [key], {});\n",
              "      } catch (error) {\n",
              "        console.error('Error during call to suggestCharts:', error);\n",
              "      }\n",
              "      quickchartButtonEl.classList.remove('colab-df-spinner');\n",
              "      quickchartButtonEl.classList.add('colab-df-quickchart-complete');\n",
              "    }\n",
              "    (() => {\n",
              "      let quickchartButtonEl =\n",
              "        document.querySelector('#df-11cc4629-6b34-4003-8363-7f7f37d862fe button');\n",
              "      quickchartButtonEl.style.display =\n",
              "        google.colab.kernel.accessAllowed ? 'block' : 'none';\n",
              "    })();\n",
              "  </script>\n",
              "</div>\n",
              "\n",
              "    </div>\n",
              "  </div>\n"
            ],
            "application/vnd.google.colaboratory.intrinsic+json": {
              "type": "dataframe",
              "variable_name": "data"
            }
          },
          "metadata": {},
          "execution_count": 144
        }
      ],
      "source": [
        "# Loading the dataset\n",
        "data = pd.read_excel('AnomaData.xlsx')\n",
        "# Displaying the first few rows of the dataset\n",
        "data.head()"
      ]
    },
    {
      "cell_type": "code",
      "execution_count": 145,
      "id": "2f24ed58",
      "metadata": {
        "colab": {
          "base_uri": "https://localhost:8080/"
        },
        "id": "2f24ed58",
        "outputId": "06079ea6-ca52-489c-93d0-2ffb5289e200"
      },
      "outputs": [
        {
          "output_type": "execute_result",
          "data": {
            "text/plain": [
              "Index(['time', 'y', 'x1', 'x2', 'x3', 'x4', 'x5', 'x6', 'x7', 'x8', 'x9',\n",
              "       'x10', 'x11', 'x12', 'x13', 'x14', 'x15', 'x16', 'x17', 'x18', 'x19',\n",
              "       'x20', 'x21', 'x22', 'x23', 'x24', 'x25', 'x26', 'x27', 'x28', 'x29',\n",
              "       'x30', 'x31', 'x32', 'x33', 'x34', 'x35', 'x36', 'x37', 'x38', 'x39',\n",
              "       'x40', 'x41', 'x42', 'x43', 'x44', 'x45', 'x46', 'x47', 'x48', 'x49',\n",
              "       'x50', 'x51', 'x52', 'x54', 'x55', 'x56', 'x57', 'x58', 'x59', 'x60',\n",
              "       'y.1'],\n",
              "      dtype='object')"
            ]
          },
          "metadata": {},
          "execution_count": 145
        }
      ],
      "source": [
        "data.columns"
      ]
    },
    {
      "cell_type": "code",
      "execution_count": 146,
      "id": "a1dd41bf",
      "metadata": {
        "id": "a1dd41bf"
      },
      "outputs": [],
      "source": [
        "data.drop(['y.1','time'],axis=1,inplace=True)"
      ]
    },
    {
      "cell_type": "markdown",
      "source": [
        "## Exploratory Data Analysis"
      ],
      "metadata": {
        "id": "2grzsiPugOBG"
      },
      "id": "2grzsiPugOBG"
    },
    {
      "cell_type": "code",
      "execution_count": null,
      "id": "2b163bcf",
      "metadata": {
        "colab": {
          "base_uri": "https://localhost:8080/",
          "height": 113,
          "referenced_widgets": [
            "ae1d1044626b48c9af82b6da8ea1cb31",
            "8bcddbf3727a4198843a9a82261321f9",
            "595b6c5035f1477b8ba7214ab30e7ffb",
            "f2e76fbab2d844f491dd1b71c5868957",
            "7578672749d64270aed4e449895b67d7",
            "790e4f020d4b4614abf50e7d65f71e2a",
            "9c372f71158745a4be1518cf7a9bd2be",
            "0bace58aac3442d1a1c57f4458067b91",
            "ba4602b8e5da4bd2b9da4fa364781e7e",
            "49eb85ac557745aba1f54b92fbbbffbb",
            "8cc2422c6d204576b05c65a28241a7ee",
            "6f11b19f98f24621b26cd59d123183a2",
            "6715c696b2e44a75880b494553ca20ce",
            "647eae2c6bae4f6898fd07f222dc7412",
            "a04cbabd2cf1408c945143059fd0c304",
            "7cfb80aa32c749bba7ce9470fa17cc78",
            "f67687b085e3404394913b1d8caeb40d",
            "d00ac848fc394cc487d220422f177a7c",
            "a4390dabf1c6465db9328603bc3ab3bd",
            "835c23eb9370494fac56566c1a8f497c",
            "02c8ad6c690a4705a5de76698ba1b3d3",
            "4b08e65a3c0b4a7abeeb37447526abef",
            "30c97075fb804c3d8c7983467d6a8d3d",
            "9014b5bf58f7498ea45865c9aa5156c3",
            "2d4277695a5643f7b53fa17cf8ec46ec",
            "308d6dfcf12d46bcb3ba01db5bfc3359",
            "c9a0475837d14690b53fa8a9175631f8",
            "db3843586ad84d7fb478c7098032cb44",
            "4df6f6e1e7d34b9cbac1015c7d5ebe88",
            "3ffd00ce71e14f12a963587ebfcb793a",
            "6eaf5caef80d4b59947ae58326ce3411",
            "27f7926adcde4e528312f12faeaf0c58",
            "3e4b76a248c343c6b90e34ec84f88652"
          ]
        },
        "id": "2b163bcf",
        "outputId": "83b2954a-51f2-469a-c5a9-e2ffa05dca07"
      },
      "outputs": [
        {
          "data": {
            "application/vnd.jupyter.widget-view+json": {
              "model_id": "ae1d1044626b48c9af82b6da8ea1cb31",
              "version_major": 2,
              "version_minor": 0
            },
            "text/plain": [
              "Summarize dataset:   0%|          | 0/5 [00:00<?, ?it/s]"
            ]
          },
          "metadata": {},
          "output_type": "display_data"
        },
        {
          "output_type": "display_data",
          "data": {
            "text/plain": [
              "Generate report structure:   0%|          | 0/1 [00:00<?, ?it/s]"
            ],
            "application/vnd.jupyter.widget-view+json": {
              "version_major": 2,
              "version_minor": 0,
              "model_id": "6f11b19f98f24621b26cd59d123183a2"
            }
          },
          "metadata": {}
        },
        {
          "output_type": "display_data",
          "data": {
            "text/plain": [
              "Render HTML:   0%|          | 0/1 [00:00<?, ?it/s]"
            ],
            "application/vnd.jupyter.widget-view+json": {
              "version_major": 2,
              "version_minor": 0,
              "model_id": "30c97075fb804c3d8c7983467d6a8d3d"
            }
          },
          "metadata": {}
        }
      ],
      "source": [
        "from ydata_profiling import ProfileReport\n",
        "rep=ProfileReport(data)\n",
        "rep"
      ]
    },
    {
      "cell_type": "code",
      "execution_count": 7,
      "id": "844890b8",
      "metadata": {
        "colab": {
          "base_uri": "https://localhost:8080/"
        },
        "id": "844890b8",
        "outputId": "6d7a8de7-8441-4fea-bb94-87db6625941e"
      },
      "outputs": [
        {
          "output_type": "execute_result",
          "data": {
            "text/plain": [
              "y      0\n",
              "x1     0\n",
              "x2     0\n",
              "x3     0\n",
              "x4     0\n",
              "x5     0\n",
              "x6     0\n",
              "x7     0\n",
              "x8     0\n",
              "x9     0\n",
              "x10    0\n",
              "x11    0\n",
              "x12    0\n",
              "x13    0\n",
              "x14    0\n",
              "x15    0\n",
              "x16    0\n",
              "x17    0\n",
              "x18    0\n",
              "x19    0\n",
              "x20    0\n",
              "x21    0\n",
              "x22    0\n",
              "x23    0\n",
              "x24    0\n",
              "x25    0\n",
              "x26    0\n",
              "x27    0\n",
              "x28    0\n",
              "x29    0\n",
              "x30    0\n",
              "x31    0\n",
              "x32    0\n",
              "x33    0\n",
              "x34    0\n",
              "x35    0\n",
              "x36    0\n",
              "x37    0\n",
              "x38    0\n",
              "x39    0\n",
              "x40    0\n",
              "x41    0\n",
              "x42    0\n",
              "x43    0\n",
              "x44    0\n",
              "x45    0\n",
              "x46    0\n",
              "x47    0\n",
              "x48    0\n",
              "x49    0\n",
              "x50    0\n",
              "x51    0\n",
              "x52    0\n",
              "x54    0\n",
              "x55    0\n",
              "x56    0\n",
              "x57    0\n",
              "x58    0\n",
              "x59    0\n",
              "x60    0\n",
              "dtype: int64"
            ]
          },
          "metadata": {},
          "execution_count": 7
        }
      ],
      "source": [
        "# Checking null values\n",
        "data.isna().sum()"
      ]
    },
    {
      "cell_type": "markdown",
      "source": [
        "**No null values present**"
      ],
      "metadata": {
        "id": "q-xFTI1pP4j4"
      },
      "id": "q-xFTI1pP4j4"
    },
    {
      "cell_type": "code",
      "execution_count": 8,
      "id": "83ef0bb2",
      "metadata": {
        "colab": {
          "base_uri": "https://localhost:8080/",
          "height": 350
        },
        "id": "83ef0bb2",
        "outputId": "bb7f0859-ae6b-4f9d-da3f-01c507b69149"
      },
      "outputs": [
        {
          "output_type": "execute_result",
          "data": {
            "text/plain": [
              "                  y            x1            x2            x3            x4  \\\n",
              "count  18398.000000  18398.000000  18398.000000  18398.000000  18398.000000   \n",
              "mean       0.006740      0.011824      0.157986      0.569300     -9.958345   \n",
              "std        0.081822      0.742875      4.939762      5.937178    131.033712   \n",
              "min        0.000000     -3.787279    -17.316550    -18.198509   -322.781610   \n",
              "25%        0.000000     -0.405681     -2.158235     -3.537054   -111.378372   \n",
              "50%        0.000000      0.128245     -0.075505     -0.190683    -14.881585   \n",
              "75%        0.000000      0.421222      2.319297      3.421223     92.199134   \n",
              "max        1.000000      3.054156     16.742105     15.900116    334.694098   \n",
              "\n",
              "                 x5            x6            x7            x8            x9  \\\n",
              "count  18398.000000  18398.000000  18398.000000  18398.000000  18398.000000   \n",
              "mean       0.006518      2.387533      0.001647     -0.004125     -0.003056   \n",
              "std        0.634054     37.104012      0.108870      0.075460      0.156047   \n",
              "min       -1.623988   -279.408440     -0.429273     -0.451141     -0.120087   \n",
              "25%       -0.446787    -24.345268     -0.058520     -0.051043     -0.059966   \n",
              "50%       -0.120745     10.528435     -0.009338     -0.000993     -0.030057   \n",
              "75%        0.325152     32.172974      0.060515      0.038986      0.001990   \n",
              "max        4.239385     96.060768      1.705590      0.788826      4.060033   \n",
              "\n",
              "       ...           x50           x51           x52           x54  \\\n",
              "count  ...  18398.000000  18398.000000  18398.000000  18398.000000   \n",
              "mean   ...      0.602553     -3.357339      0.380519      0.173708   \n",
              "std    ...      6.454156    348.256716      6.211598      3.029516   \n",
              "min    ...    -23.448985  -3652.989000   -187.943440     -8.210370   \n",
              "25%    ...     -3.883678     29.984624     -3.672684      0.487780   \n",
              "50%    ...      0.065663     29.984624      0.294846      0.702299   \n",
              "75%    ...      6.148610     29.984624      5.109543      2.675751   \n",
              "max    ...     17.828847     40.152348     14.180588      6.637265   \n",
              "\n",
              "                x55           x56           x57           x58           x59  \\\n",
              "count  18398.000000  18398.000000  18398.000000  18398.000000  18398.000000   \n",
              "mean       2.379154      9.234953      0.233493     -0.001861     -0.061522   \n",
              "std       67.940694     81.274103      2.326838      0.048732     10.394085   \n",
              "min     -230.574030   -269.039500    -12.640370     -0.149790   -100.810500   \n",
              "25%      -40.050046    -45.519149     -1.598804      0.000470      0.295023   \n",
              "50%       17.471317      1.438806      0.085826      0.012888      0.734591   \n",
              "75%       44.093387     63.209681      2.222118      0.020991      1.266506   \n",
              "max      287.252017    252.147455      6.922008      0.067249      6.985460   \n",
              "\n",
              "                x60  \n",
              "count  18398.000000  \n",
              "mean       0.001258  \n",
              "std        0.004721  \n",
              "min       -0.012229  \n",
              "25%       -0.001805  \n",
              "50%        0.000710  \n",
              "75%        0.004087  \n",
              "max        0.020510  \n",
              "\n",
              "[8 rows x 60 columns]"
            ],
            "text/html": [
              "\n",
              "  <div id=\"df-3175ae9a-0374-4fc5-89ca-75b740221229\" class=\"colab-df-container\">\n",
              "    <div>\n",
              "<style scoped>\n",
              "    .dataframe tbody tr th:only-of-type {\n",
              "        vertical-align: middle;\n",
              "    }\n",
              "\n",
              "    .dataframe tbody tr th {\n",
              "        vertical-align: top;\n",
              "    }\n",
              "\n",
              "    .dataframe thead th {\n",
              "        text-align: right;\n",
              "    }\n",
              "</style>\n",
              "<table border=\"1\" class=\"dataframe\">\n",
              "  <thead>\n",
              "    <tr style=\"text-align: right;\">\n",
              "      <th></th>\n",
              "      <th>y</th>\n",
              "      <th>x1</th>\n",
              "      <th>x2</th>\n",
              "      <th>x3</th>\n",
              "      <th>x4</th>\n",
              "      <th>x5</th>\n",
              "      <th>x6</th>\n",
              "      <th>x7</th>\n",
              "      <th>x8</th>\n",
              "      <th>x9</th>\n",
              "      <th>...</th>\n",
              "      <th>x50</th>\n",
              "      <th>x51</th>\n",
              "      <th>x52</th>\n",
              "      <th>x54</th>\n",
              "      <th>x55</th>\n",
              "      <th>x56</th>\n",
              "      <th>x57</th>\n",
              "      <th>x58</th>\n",
              "      <th>x59</th>\n",
              "      <th>x60</th>\n",
              "    </tr>\n",
              "  </thead>\n",
              "  <tbody>\n",
              "    <tr>\n",
              "      <th>count</th>\n",
              "      <td>18398.000000</td>\n",
              "      <td>18398.000000</td>\n",
              "      <td>18398.000000</td>\n",
              "      <td>18398.000000</td>\n",
              "      <td>18398.000000</td>\n",
              "      <td>18398.000000</td>\n",
              "      <td>18398.000000</td>\n",
              "      <td>18398.000000</td>\n",
              "      <td>18398.000000</td>\n",
              "      <td>18398.000000</td>\n",
              "      <td>...</td>\n",
              "      <td>18398.000000</td>\n",
              "      <td>18398.000000</td>\n",
              "      <td>18398.000000</td>\n",
              "      <td>18398.000000</td>\n",
              "      <td>18398.000000</td>\n",
              "      <td>18398.000000</td>\n",
              "      <td>18398.000000</td>\n",
              "      <td>18398.000000</td>\n",
              "      <td>18398.000000</td>\n",
              "      <td>18398.000000</td>\n",
              "    </tr>\n",
              "    <tr>\n",
              "      <th>mean</th>\n",
              "      <td>0.006740</td>\n",
              "      <td>0.011824</td>\n",
              "      <td>0.157986</td>\n",
              "      <td>0.569300</td>\n",
              "      <td>-9.958345</td>\n",
              "      <td>0.006518</td>\n",
              "      <td>2.387533</td>\n",
              "      <td>0.001647</td>\n",
              "      <td>-0.004125</td>\n",
              "      <td>-0.003056</td>\n",
              "      <td>...</td>\n",
              "      <td>0.602553</td>\n",
              "      <td>-3.357339</td>\n",
              "      <td>0.380519</td>\n",
              "      <td>0.173708</td>\n",
              "      <td>2.379154</td>\n",
              "      <td>9.234953</td>\n",
              "      <td>0.233493</td>\n",
              "      <td>-0.001861</td>\n",
              "      <td>-0.061522</td>\n",
              "      <td>0.001258</td>\n",
              "    </tr>\n",
              "    <tr>\n",
              "      <th>std</th>\n",
              "      <td>0.081822</td>\n",
              "      <td>0.742875</td>\n",
              "      <td>4.939762</td>\n",
              "      <td>5.937178</td>\n",
              "      <td>131.033712</td>\n",
              "      <td>0.634054</td>\n",
              "      <td>37.104012</td>\n",
              "      <td>0.108870</td>\n",
              "      <td>0.075460</td>\n",
              "      <td>0.156047</td>\n",
              "      <td>...</td>\n",
              "      <td>6.454156</td>\n",
              "      <td>348.256716</td>\n",
              "      <td>6.211598</td>\n",
              "      <td>3.029516</td>\n",
              "      <td>67.940694</td>\n",
              "      <td>81.274103</td>\n",
              "      <td>2.326838</td>\n",
              "      <td>0.048732</td>\n",
              "      <td>10.394085</td>\n",
              "      <td>0.004721</td>\n",
              "    </tr>\n",
              "    <tr>\n",
              "      <th>min</th>\n",
              "      <td>0.000000</td>\n",
              "      <td>-3.787279</td>\n",
              "      <td>-17.316550</td>\n",
              "      <td>-18.198509</td>\n",
              "      <td>-322.781610</td>\n",
              "      <td>-1.623988</td>\n",
              "      <td>-279.408440</td>\n",
              "      <td>-0.429273</td>\n",
              "      <td>-0.451141</td>\n",
              "      <td>-0.120087</td>\n",
              "      <td>...</td>\n",
              "      <td>-23.448985</td>\n",
              "      <td>-3652.989000</td>\n",
              "      <td>-187.943440</td>\n",
              "      <td>-8.210370</td>\n",
              "      <td>-230.574030</td>\n",
              "      <td>-269.039500</td>\n",
              "      <td>-12.640370</td>\n",
              "      <td>-0.149790</td>\n",
              "      <td>-100.810500</td>\n",
              "      <td>-0.012229</td>\n",
              "    </tr>\n",
              "    <tr>\n",
              "      <th>25%</th>\n",
              "      <td>0.000000</td>\n",
              "      <td>-0.405681</td>\n",
              "      <td>-2.158235</td>\n",
              "      <td>-3.537054</td>\n",
              "      <td>-111.378372</td>\n",
              "      <td>-0.446787</td>\n",
              "      <td>-24.345268</td>\n",
              "      <td>-0.058520</td>\n",
              "      <td>-0.051043</td>\n",
              "      <td>-0.059966</td>\n",
              "      <td>...</td>\n",
              "      <td>-3.883678</td>\n",
              "      <td>29.984624</td>\n",
              "      <td>-3.672684</td>\n",
              "      <td>0.487780</td>\n",
              "      <td>-40.050046</td>\n",
              "      <td>-45.519149</td>\n",
              "      <td>-1.598804</td>\n",
              "      <td>0.000470</td>\n",
              "      <td>0.295023</td>\n",
              "      <td>-0.001805</td>\n",
              "    </tr>\n",
              "    <tr>\n",
              "      <th>50%</th>\n",
              "      <td>0.000000</td>\n",
              "      <td>0.128245</td>\n",
              "      <td>-0.075505</td>\n",
              "      <td>-0.190683</td>\n",
              "      <td>-14.881585</td>\n",
              "      <td>-0.120745</td>\n",
              "      <td>10.528435</td>\n",
              "      <td>-0.009338</td>\n",
              "      <td>-0.000993</td>\n",
              "      <td>-0.030057</td>\n",
              "      <td>...</td>\n",
              "      <td>0.065663</td>\n",
              "      <td>29.984624</td>\n",
              "      <td>0.294846</td>\n",
              "      <td>0.702299</td>\n",
              "      <td>17.471317</td>\n",
              "      <td>1.438806</td>\n",
              "      <td>0.085826</td>\n",
              "      <td>0.012888</td>\n",
              "      <td>0.734591</td>\n",
              "      <td>0.000710</td>\n",
              "    </tr>\n",
              "    <tr>\n",
              "      <th>75%</th>\n",
              "      <td>0.000000</td>\n",
              "      <td>0.421222</td>\n",
              "      <td>2.319297</td>\n",
              "      <td>3.421223</td>\n",
              "      <td>92.199134</td>\n",
              "      <td>0.325152</td>\n",
              "      <td>32.172974</td>\n",
              "      <td>0.060515</td>\n",
              "      <td>0.038986</td>\n",
              "      <td>0.001990</td>\n",
              "      <td>...</td>\n",
              "      <td>6.148610</td>\n",
              "      <td>29.984624</td>\n",
              "      <td>5.109543</td>\n",
              "      <td>2.675751</td>\n",
              "      <td>44.093387</td>\n",
              "      <td>63.209681</td>\n",
              "      <td>2.222118</td>\n",
              "      <td>0.020991</td>\n",
              "      <td>1.266506</td>\n",
              "      <td>0.004087</td>\n",
              "    </tr>\n",
              "    <tr>\n",
              "      <th>max</th>\n",
              "      <td>1.000000</td>\n",
              "      <td>3.054156</td>\n",
              "      <td>16.742105</td>\n",
              "      <td>15.900116</td>\n",
              "      <td>334.694098</td>\n",
              "      <td>4.239385</td>\n",
              "      <td>96.060768</td>\n",
              "      <td>1.705590</td>\n",
              "      <td>0.788826</td>\n",
              "      <td>4.060033</td>\n",
              "      <td>...</td>\n",
              "      <td>17.828847</td>\n",
              "      <td>40.152348</td>\n",
              "      <td>14.180588</td>\n",
              "      <td>6.637265</td>\n",
              "      <td>287.252017</td>\n",
              "      <td>252.147455</td>\n",
              "      <td>6.922008</td>\n",
              "      <td>0.067249</td>\n",
              "      <td>6.985460</td>\n",
              "      <td>0.020510</td>\n",
              "    </tr>\n",
              "  </tbody>\n",
              "</table>\n",
              "<p>8 rows × 60 columns</p>\n",
              "</div>\n",
              "    <div class=\"colab-df-buttons\">\n",
              "\n",
              "  <div class=\"colab-df-container\">\n",
              "    <button class=\"colab-df-convert\" onclick=\"convertToInteractive('df-3175ae9a-0374-4fc5-89ca-75b740221229')\"\n",
              "            title=\"Convert this dataframe to an interactive table.\"\n",
              "            style=\"display:none;\">\n",
              "\n",
              "  <svg xmlns=\"http://www.w3.org/2000/svg\" height=\"24px\" viewBox=\"0 -960 960 960\">\n",
              "    <path d=\"M120-120v-720h720v720H120Zm60-500h600v-160H180v160Zm220 220h160v-160H400v160Zm0 220h160v-160H400v160ZM180-400h160v-160H180v160Zm440 0h160v-160H620v160ZM180-180h160v-160H180v160Zm440 0h160v-160H620v160Z\"/>\n",
              "  </svg>\n",
              "    </button>\n",
              "\n",
              "  <style>\n",
              "    .colab-df-container {\n",
              "      display:flex;\n",
              "      gap: 12px;\n",
              "    }\n",
              "\n",
              "    .colab-df-convert {\n",
              "      background-color: #E8F0FE;\n",
              "      border: none;\n",
              "      border-radius: 50%;\n",
              "      cursor: pointer;\n",
              "      display: none;\n",
              "      fill: #1967D2;\n",
              "      height: 32px;\n",
              "      padding: 0 0 0 0;\n",
              "      width: 32px;\n",
              "    }\n",
              "\n",
              "    .colab-df-convert:hover {\n",
              "      background-color: #E2EBFA;\n",
              "      box-shadow: 0px 1px 2px rgba(60, 64, 67, 0.3), 0px 1px 3px 1px rgba(60, 64, 67, 0.15);\n",
              "      fill: #174EA6;\n",
              "    }\n",
              "\n",
              "    .colab-df-buttons div {\n",
              "      margin-bottom: 4px;\n",
              "    }\n",
              "\n",
              "    [theme=dark] .colab-df-convert {\n",
              "      background-color: #3B4455;\n",
              "      fill: #D2E3FC;\n",
              "    }\n",
              "\n",
              "    [theme=dark] .colab-df-convert:hover {\n",
              "      background-color: #434B5C;\n",
              "      box-shadow: 0px 1px 3px 1px rgba(0, 0, 0, 0.15);\n",
              "      filter: drop-shadow(0px 1px 2px rgba(0, 0, 0, 0.3));\n",
              "      fill: #FFFFFF;\n",
              "    }\n",
              "  </style>\n",
              "\n",
              "    <script>\n",
              "      const buttonEl =\n",
              "        document.querySelector('#df-3175ae9a-0374-4fc5-89ca-75b740221229 button.colab-df-convert');\n",
              "      buttonEl.style.display =\n",
              "        google.colab.kernel.accessAllowed ? 'block' : 'none';\n",
              "\n",
              "      async function convertToInteractive(key) {\n",
              "        const element = document.querySelector('#df-3175ae9a-0374-4fc5-89ca-75b740221229');\n",
              "        const dataTable =\n",
              "          await google.colab.kernel.invokeFunction('convertToInteractive',\n",
              "                                                    [key], {});\n",
              "        if (!dataTable) return;\n",
              "\n",
              "        const docLinkHtml = 'Like what you see? Visit the ' +\n",
              "          '<a target=\"_blank\" href=https://colab.research.google.com/notebooks/data_table.ipynb>data table notebook</a>'\n",
              "          + ' to learn more about interactive tables.';\n",
              "        element.innerHTML = '';\n",
              "        dataTable['output_type'] = 'display_data';\n",
              "        await google.colab.output.renderOutput(dataTable, element);\n",
              "        const docLink = document.createElement('div');\n",
              "        docLink.innerHTML = docLinkHtml;\n",
              "        element.appendChild(docLink);\n",
              "      }\n",
              "    </script>\n",
              "  </div>\n",
              "\n",
              "\n",
              "<div id=\"df-d202e682-0789-4e5d-ae7c-d442477d582c\">\n",
              "  <button class=\"colab-df-quickchart\" onclick=\"quickchart('df-d202e682-0789-4e5d-ae7c-d442477d582c')\"\n",
              "            title=\"Suggest charts\"\n",
              "            style=\"display:none;\">\n",
              "\n",
              "<svg xmlns=\"http://www.w3.org/2000/svg\" height=\"24px\"viewBox=\"0 0 24 24\"\n",
              "     width=\"24px\">\n",
              "    <g>\n",
              "        <path d=\"M19 3H5c-1.1 0-2 .9-2 2v14c0 1.1.9 2 2 2h14c1.1 0 2-.9 2-2V5c0-1.1-.9-2-2-2zM9 17H7v-7h2v7zm4 0h-2V7h2v10zm4 0h-2v-4h2v4z\"/>\n",
              "    </g>\n",
              "</svg>\n",
              "  </button>\n",
              "\n",
              "<style>\n",
              "  .colab-df-quickchart {\n",
              "      --bg-color: #E8F0FE;\n",
              "      --fill-color: #1967D2;\n",
              "      --hover-bg-color: #E2EBFA;\n",
              "      --hover-fill-color: #174EA6;\n",
              "      --disabled-fill-color: #AAA;\n",
              "      --disabled-bg-color: #DDD;\n",
              "  }\n",
              "\n",
              "  [theme=dark] .colab-df-quickchart {\n",
              "      --bg-color: #3B4455;\n",
              "      --fill-color: #D2E3FC;\n",
              "      --hover-bg-color: #434B5C;\n",
              "      --hover-fill-color: #FFFFFF;\n",
              "      --disabled-bg-color: #3B4455;\n",
              "      --disabled-fill-color: #666;\n",
              "  }\n",
              "\n",
              "  .colab-df-quickchart {\n",
              "    background-color: var(--bg-color);\n",
              "    border: none;\n",
              "    border-radius: 50%;\n",
              "    cursor: pointer;\n",
              "    display: none;\n",
              "    fill: var(--fill-color);\n",
              "    height: 32px;\n",
              "    padding: 0;\n",
              "    width: 32px;\n",
              "  }\n",
              "\n",
              "  .colab-df-quickchart:hover {\n",
              "    background-color: var(--hover-bg-color);\n",
              "    box-shadow: 0 1px 2px rgba(60, 64, 67, 0.3), 0 1px 3px 1px rgba(60, 64, 67, 0.15);\n",
              "    fill: var(--button-hover-fill-color);\n",
              "  }\n",
              "\n",
              "  .colab-df-quickchart-complete:disabled,\n",
              "  .colab-df-quickchart-complete:disabled:hover {\n",
              "    background-color: var(--disabled-bg-color);\n",
              "    fill: var(--disabled-fill-color);\n",
              "    box-shadow: none;\n",
              "  }\n",
              "\n",
              "  .colab-df-spinner {\n",
              "    border: 2px solid var(--fill-color);\n",
              "    border-color: transparent;\n",
              "    border-bottom-color: var(--fill-color);\n",
              "    animation:\n",
              "      spin 1s steps(1) infinite;\n",
              "  }\n",
              "\n",
              "  @keyframes spin {\n",
              "    0% {\n",
              "      border-color: transparent;\n",
              "      border-bottom-color: var(--fill-color);\n",
              "      border-left-color: var(--fill-color);\n",
              "    }\n",
              "    20% {\n",
              "      border-color: transparent;\n",
              "      border-left-color: var(--fill-color);\n",
              "      border-top-color: var(--fill-color);\n",
              "    }\n",
              "    30% {\n",
              "      border-color: transparent;\n",
              "      border-left-color: var(--fill-color);\n",
              "      border-top-color: var(--fill-color);\n",
              "      border-right-color: var(--fill-color);\n",
              "    }\n",
              "    40% {\n",
              "      border-color: transparent;\n",
              "      border-right-color: var(--fill-color);\n",
              "      border-top-color: var(--fill-color);\n",
              "    }\n",
              "    60% {\n",
              "      border-color: transparent;\n",
              "      border-right-color: var(--fill-color);\n",
              "    }\n",
              "    80% {\n",
              "      border-color: transparent;\n",
              "      border-right-color: var(--fill-color);\n",
              "      border-bottom-color: var(--fill-color);\n",
              "    }\n",
              "    90% {\n",
              "      border-color: transparent;\n",
              "      border-bottom-color: var(--fill-color);\n",
              "    }\n",
              "  }\n",
              "</style>\n",
              "\n",
              "  <script>\n",
              "    async function quickchart(key) {\n",
              "      const quickchartButtonEl =\n",
              "        document.querySelector('#' + key + ' button');\n",
              "      quickchartButtonEl.disabled = true;  // To prevent multiple clicks.\n",
              "      quickchartButtonEl.classList.add('colab-df-spinner');\n",
              "      try {\n",
              "        const charts = await google.colab.kernel.invokeFunction(\n",
              "            'suggestCharts', [key], {});\n",
              "      } catch (error) {\n",
              "        console.error('Error during call to suggestCharts:', error);\n",
              "      }\n",
              "      quickchartButtonEl.classList.remove('colab-df-spinner');\n",
              "      quickchartButtonEl.classList.add('colab-df-quickchart-complete');\n",
              "    }\n",
              "    (() => {\n",
              "      let quickchartButtonEl =\n",
              "        document.querySelector('#df-d202e682-0789-4e5d-ae7c-d442477d582c button');\n",
              "      quickchartButtonEl.style.display =\n",
              "        google.colab.kernel.accessAllowed ? 'block' : 'none';\n",
              "    })();\n",
              "  </script>\n",
              "</div>\n",
              "\n",
              "    </div>\n",
              "  </div>\n"
            ],
            "application/vnd.google.colaboratory.intrinsic+json": {
              "type": "dataframe"
            }
          },
          "metadata": {},
          "execution_count": 8
        }
      ],
      "source": [
        "data.describe()"
      ]
    },
    {
      "cell_type": "code",
      "execution_count": 9,
      "id": "343bd486",
      "metadata": {
        "id": "343bd486"
      },
      "outputs": [],
      "source": [
        "# Separate features and target variables\n",
        "X = data.drop('y',axis=1)\n",
        "y = data['y']  # Binary target variable for anomaly detection\n"
      ]
    },
    {
      "cell_type": "code",
      "execution_count": 10,
      "id": "e3fd2b10",
      "metadata": {
        "colab": {
          "base_uri": "https://localhost:8080/"
        },
        "id": "e3fd2b10",
        "outputId": "a7ef1ed4-b13d-4062-e18f-8d2287984a37"
      },
      "outputs": [
        {
          "output_type": "stream",
          "name": "stdout",
          "text": [
            "x1 --> Skew= -1.247625732759167\n",
            "x2 --> Skew= 0.24618128774105086\n",
            "x3 --> Skew= 0.4055454880638477\n",
            "x4 --> Skew= 0.12514637378313767\n",
            "x5 --> Skew= 0.6837495582949324\n",
            "x6 --> Skew= -0.7783583177473792\n",
            "x7 --> Skew= 2.4357311339796475\n",
            "x8 --> Skew= -1.6026471752443343\n",
            "x9 --> Skew= 9.012488007639806\n",
            "x10 --> Skew= 8.943562386353957\n",
            "x11 --> Skew= -7.185593183352757\n",
            "x12 --> Skew= -8.361297553646873\n",
            "x13 --> Skew= -0.12379559435046963\n",
            "x14 --> Skew= 10.143169032655202\n",
            "x15 --> Skew= 7.49124549847556\n",
            "x16 --> Skew= -7.889659645806755\n",
            "x17 --> Skew= 0.8767548887172883\n",
            "x18 --> Skew= 0.6193348339124728\n",
            "x19 --> Skew= -14.642912582263218\n",
            "x20 --> Skew= -1.2036063560137629\n",
            "x21 --> Skew= 0.25536084410168486\n",
            "x22 --> Skew= 0.5803436878881983\n",
            "x23 --> Skew= -3.1418220516846533\n",
            "x24 --> Skew= 0.554933106032238\n",
            "x25 --> Skew= -9.498804786346405\n",
            "x26 --> Skew= 0.7062128721051979\n",
            "x27 --> Skew= -1.09724465412704\n",
            "x28 --> Skew= 0.8690546825826609\n",
            "x29 --> Skew= -0.3144094618837163\n",
            "x30 --> Skew= -0.38429639300540624\n",
            "x31 --> Skew= -0.06350061244827468\n",
            "x32 --> Skew= -9.61533865007797\n",
            "x33 --> Skew= 0.27416672685782983\n",
            "x34 --> Skew= -0.7427083382729173\n",
            "x35 --> Skew= -0.05333477661865808\n",
            "x36 --> Skew= 4.796638845977901\n",
            "x37 --> Skew= -2.01988817570014\n",
            "x38 --> Skew= 9.851534132930421\n",
            "x39 --> Skew= 3.7708045847451492\n",
            "x40 --> Skew= -4.413442472540411\n",
            "x41 --> Skew= 0.29427380773473477\n",
            "x42 --> Skew= 1.51225912751579\n",
            "x43 --> Skew= 7.522535603813891\n",
            "x44 --> Skew= -0.751908745142232\n",
            "x45 --> Skew= 9.14525391875508\n",
            "x46 --> Skew= 2.085440032593785\n",
            "x47 --> Skew= -0.9776387034518712\n",
            "x48 --> Skew= -1.8096800837955427\n",
            "x49 --> Skew= -0.41343459474009875\n",
            "x50 --> Skew= 0.23970568808172968\n",
            "x51 --> Skew= -10.384495189618546\n",
            "x52 --> Skew= -1.3077363575331327\n",
            "x54 --> Skew= -0.9314628850541723\n",
            "x55 --> Skew= -0.46067152341753304\n",
            "x56 --> Skew= 0.5252953172596814\n",
            "x57 --> Skew= 0.20301850665091772\n",
            "x58 --> Skew= -2.460119223931329\n",
            "x59 --> Skew= -9.49916162199559\n",
            "x60 --> Skew= 0.4793085411594726\n"
          ]
        }
      ],
      "source": [
        "# Checking the skewness of the columns\n",
        "from scipy.stats import skew\n",
        "for col in X.columns:\n",
        "    print(col+\" --> Skew=\",skew(data[col]))"
      ]
    },
    {
      "cell_type": "code",
      "execution_count": 11,
      "id": "fd9b5d42",
      "metadata": {
        "id": "fd9b5d42"
      },
      "outputs": [],
      "source": [
        "# Applying yeo-johnson transformation as there are both negative and positive skew\n",
        "from sklearn.preprocessing import PowerTransformer\n",
        "pt=PowerTransformer(method='yeo-johnson')\n"
      ]
    },
    {
      "cell_type": "code",
      "execution_count": 12,
      "id": "62c2504a",
      "metadata": {
        "id": "62c2504a"
      },
      "outputs": [],
      "source": [
        "# Performing train test split first to prevent data leakage later\n",
        "X_train, X_test, y_train, y_test = train_test_split(X, y, test_size=0.2,random_state=42,stratify=y)\n"
      ]
    },
    {
      "cell_type": "code",
      "execution_count": 13,
      "id": "92d6f7b1",
      "metadata": {
        "colab": {
          "base_uri": "https://localhost:8080/"
        },
        "id": "92d6f7b1",
        "outputId": "d7128a66-208e-453a-af9d-349f73c1c715"
      },
      "outputs": [
        {
          "output_type": "stream",
          "name": "stdout",
          "text": [
            "Shape of X train:  (14718, 59)\n",
            "Shape of y train:  (14718,)\n",
            "Shape of X test:  (3680, 59)\n",
            "Shape of y test:  (3680,)\n"
          ]
        }
      ],
      "source": [
        "print(\"Shape of X train: \",X_train.shape)\n",
        "print(\"Shape of y train: \",y_train.shape)\n",
        "print(\"Shape of X test: \",X_test.shape)\n",
        "print(\"Shape of y test: \",y_test.shape)"
      ]
    },
    {
      "cell_type": "code",
      "execution_count": 14,
      "id": "7592b7e8",
      "metadata": {
        "id": "7592b7e8"
      },
      "outputs": [],
      "source": [
        "# Transforming the X train and X test\n",
        "X_train=pt.fit_transform(X_train)\n",
        "X_test=pt.transform(X_test)"
      ]
    },
    {
      "cell_type": "code",
      "execution_count": 15,
      "id": "9f86d32b",
      "metadata": {
        "colab": {
          "base_uri": "https://localhost:8080/"
        },
        "id": "9f86d32b",
        "outputId": "9b94a19c-230b-45c2-d94e-1fe119170b3e"
      },
      "outputs": [
        {
          "output_type": "execute_result",
          "data": {
            "text/plain": [
              "y\n",
              "0    14619\n",
              "1       99\n",
              "Name: count, dtype: int64"
            ]
          },
          "metadata": {},
          "execution_count": 15
        }
      ],
      "source": [
        "# Checking the value counts to see if there is imbalance in target column\n",
        "y_train.value_counts()"
      ]
    },
    {
      "cell_type": "markdown",
      "source": [
        "### Dataset is imbalanced. So we will apply oversampling method SMOTE"
      ],
      "metadata": {
        "id": "ssUjB9pdQpPr"
      },
      "id": "ssUjB9pdQpPr"
    },
    {
      "cell_type": "code",
      "execution_count": 16,
      "id": "97528612",
      "metadata": {
        "id": "97528612"
      },
      "outputs": [],
      "source": [
        "# SMOTE oversampling\n",
        "from imblearn.over_sampling import SMOTE\n",
        "smote=SMOTE()\n",
        "X_train,y_train=smote.fit_resample(X_train,y_train)"
      ]
    },
    {
      "cell_type": "code",
      "execution_count": 17,
      "id": "425a4f49",
      "metadata": {
        "colab": {
          "base_uri": "https://localhost:8080/"
        },
        "id": "425a4f49",
        "outputId": "9ec0a580-34ff-4928-899f-d4a7656721ab"
      },
      "outputs": [
        {
          "output_type": "execute_result",
          "data": {
            "text/plain": [
              "y\n",
              "0    14619\n",
              "1    14619\n",
              "Name: count, dtype: int64"
            ]
          },
          "metadata": {},
          "execution_count": 17
        }
      ],
      "source": [
        "y_train.value_counts()"
      ]
    },
    {
      "cell_type": "markdown",
      "source": [
        "### Now the dataset is balanced"
      ],
      "metadata": {
        "id": "6DWXqZlhQ16F"
      },
      "id": "6DWXqZlhQ16F"
    },
    {
      "cell_type": "code",
      "execution_count": 18,
      "id": "4bd2c1bb",
      "metadata": {
        "colab": {
          "base_uri": "https://localhost:8080/"
        },
        "id": "4bd2c1bb",
        "outputId": "45648ad3-8c6e-4af8-a135-b3b0c9125881"
      },
      "outputs": [
        {
          "output_type": "stream",
          "name": "stdout",
          "text": [
            "Shape of X train:  (29238, 59)\n",
            "Shape of y train:  (29238,)\n"
          ]
        }
      ],
      "source": [
        "print(\"Shape of X train: \",X_train.shape)\n",
        "print(\"Shape of y train: \",y_train.shape)"
      ]
    },
    {
      "cell_type": "markdown",
      "source": [
        "### Featuring Scaling"
      ],
      "metadata": {
        "id": "k4OgdcNIQ8jW"
      },
      "id": "k4OgdcNIQ8jW"
    },
    {
      "cell_type": "code",
      "execution_count": 19,
      "id": "a01ca984",
      "metadata": {
        "id": "a01ca984"
      },
      "outputs": [],
      "source": [
        "# Scaling the data using Standard Scaler\n",
        "sc=StandardScaler()\n",
        "X_train_sc=sc.fit_transform(X_train)\n",
        "X_test_sc=sc.transform(X_test)"
      ]
    },
    {
      "cell_type": "code",
      "source": [
        "pd.DataFrame(y_train,columns=['y'])"
      ],
      "metadata": {
        "colab": {
          "base_uri": "https://localhost:8080/",
          "height": 424
        },
        "id": "l6r281gxWIks",
        "outputId": "64c0910e-8e82-4486-b580-42036b8ebcf7"
      },
      "id": "l6r281gxWIks",
      "execution_count": 132,
      "outputs": [
        {
          "output_type": "execute_result",
          "data": {
            "text/plain": [
              "       y\n",
              "0      0\n",
              "1      0\n",
              "2      0\n",
              "3      0\n",
              "4      0\n",
              "...   ..\n",
              "29233  1\n",
              "29234  1\n",
              "29235  1\n",
              "29236  1\n",
              "29237  1\n",
              "\n",
              "[29238 rows x 1 columns]"
            ],
            "text/html": [
              "\n",
              "  <div id=\"df-b6815877-50e5-447f-ac0a-24f65cfc3a64\" class=\"colab-df-container\">\n",
              "    <div>\n",
              "<style scoped>\n",
              "    .dataframe tbody tr th:only-of-type {\n",
              "        vertical-align: middle;\n",
              "    }\n",
              "\n",
              "    .dataframe tbody tr th {\n",
              "        vertical-align: top;\n",
              "    }\n",
              "\n",
              "    .dataframe thead th {\n",
              "        text-align: right;\n",
              "    }\n",
              "</style>\n",
              "<table border=\"1\" class=\"dataframe\">\n",
              "  <thead>\n",
              "    <tr style=\"text-align: right;\">\n",
              "      <th></th>\n",
              "      <th>y</th>\n",
              "    </tr>\n",
              "  </thead>\n",
              "  <tbody>\n",
              "    <tr>\n",
              "      <th>0</th>\n",
              "      <td>0</td>\n",
              "    </tr>\n",
              "    <tr>\n",
              "      <th>1</th>\n",
              "      <td>0</td>\n",
              "    </tr>\n",
              "    <tr>\n",
              "      <th>2</th>\n",
              "      <td>0</td>\n",
              "    </tr>\n",
              "    <tr>\n",
              "      <th>3</th>\n",
              "      <td>0</td>\n",
              "    </tr>\n",
              "    <tr>\n",
              "      <th>4</th>\n",
              "      <td>0</td>\n",
              "    </tr>\n",
              "    <tr>\n",
              "      <th>...</th>\n",
              "      <td>...</td>\n",
              "    </tr>\n",
              "    <tr>\n",
              "      <th>29233</th>\n",
              "      <td>1</td>\n",
              "    </tr>\n",
              "    <tr>\n",
              "      <th>29234</th>\n",
              "      <td>1</td>\n",
              "    </tr>\n",
              "    <tr>\n",
              "      <th>29235</th>\n",
              "      <td>1</td>\n",
              "    </tr>\n",
              "    <tr>\n",
              "      <th>29236</th>\n",
              "      <td>1</td>\n",
              "    </tr>\n",
              "    <tr>\n",
              "      <th>29237</th>\n",
              "      <td>1</td>\n",
              "    </tr>\n",
              "  </tbody>\n",
              "</table>\n",
              "<p>29238 rows × 1 columns</p>\n",
              "</div>\n",
              "    <div class=\"colab-df-buttons\">\n",
              "\n",
              "  <div class=\"colab-df-container\">\n",
              "    <button class=\"colab-df-convert\" onclick=\"convertToInteractive('df-b6815877-50e5-447f-ac0a-24f65cfc3a64')\"\n",
              "            title=\"Convert this dataframe to an interactive table.\"\n",
              "            style=\"display:none;\">\n",
              "\n",
              "  <svg xmlns=\"http://www.w3.org/2000/svg\" height=\"24px\" viewBox=\"0 -960 960 960\">\n",
              "    <path d=\"M120-120v-720h720v720H120Zm60-500h600v-160H180v160Zm220 220h160v-160H400v160Zm0 220h160v-160H400v160ZM180-400h160v-160H180v160Zm440 0h160v-160H620v160ZM180-180h160v-160H180v160Zm440 0h160v-160H620v160Z\"/>\n",
              "  </svg>\n",
              "    </button>\n",
              "\n",
              "  <style>\n",
              "    .colab-df-container {\n",
              "      display:flex;\n",
              "      gap: 12px;\n",
              "    }\n",
              "\n",
              "    .colab-df-convert {\n",
              "      background-color: #E8F0FE;\n",
              "      border: none;\n",
              "      border-radius: 50%;\n",
              "      cursor: pointer;\n",
              "      display: none;\n",
              "      fill: #1967D2;\n",
              "      height: 32px;\n",
              "      padding: 0 0 0 0;\n",
              "      width: 32px;\n",
              "    }\n",
              "\n",
              "    .colab-df-convert:hover {\n",
              "      background-color: #E2EBFA;\n",
              "      box-shadow: 0px 1px 2px rgba(60, 64, 67, 0.3), 0px 1px 3px 1px rgba(60, 64, 67, 0.15);\n",
              "      fill: #174EA6;\n",
              "    }\n",
              "\n",
              "    .colab-df-buttons div {\n",
              "      margin-bottom: 4px;\n",
              "    }\n",
              "\n",
              "    [theme=dark] .colab-df-convert {\n",
              "      background-color: #3B4455;\n",
              "      fill: #D2E3FC;\n",
              "    }\n",
              "\n",
              "    [theme=dark] .colab-df-convert:hover {\n",
              "      background-color: #434B5C;\n",
              "      box-shadow: 0px 1px 3px 1px rgba(0, 0, 0, 0.15);\n",
              "      filter: drop-shadow(0px 1px 2px rgba(0, 0, 0, 0.3));\n",
              "      fill: #FFFFFF;\n",
              "    }\n",
              "  </style>\n",
              "\n",
              "    <script>\n",
              "      const buttonEl =\n",
              "        document.querySelector('#df-b6815877-50e5-447f-ac0a-24f65cfc3a64 button.colab-df-convert');\n",
              "      buttonEl.style.display =\n",
              "        google.colab.kernel.accessAllowed ? 'block' : 'none';\n",
              "\n",
              "      async function convertToInteractive(key) {\n",
              "        const element = document.querySelector('#df-b6815877-50e5-447f-ac0a-24f65cfc3a64');\n",
              "        const dataTable =\n",
              "          await google.colab.kernel.invokeFunction('convertToInteractive',\n",
              "                                                    [key], {});\n",
              "        if (!dataTable) return;\n",
              "\n",
              "        const docLinkHtml = 'Like what you see? Visit the ' +\n",
              "          '<a target=\"_blank\" href=https://colab.research.google.com/notebooks/data_table.ipynb>data table notebook</a>'\n",
              "          + ' to learn more about interactive tables.';\n",
              "        element.innerHTML = '';\n",
              "        dataTable['output_type'] = 'display_data';\n",
              "        await google.colab.output.renderOutput(dataTable, element);\n",
              "        const docLink = document.createElement('div');\n",
              "        docLink.innerHTML = docLinkHtml;\n",
              "        element.appendChild(docLink);\n",
              "      }\n",
              "    </script>\n",
              "  </div>\n",
              "\n",
              "\n",
              "<div id=\"df-87b4a033-3326-4fed-8e88-20e8ffedde5c\">\n",
              "  <button class=\"colab-df-quickchart\" onclick=\"quickchart('df-87b4a033-3326-4fed-8e88-20e8ffedde5c')\"\n",
              "            title=\"Suggest charts\"\n",
              "            style=\"display:none;\">\n",
              "\n",
              "<svg xmlns=\"http://www.w3.org/2000/svg\" height=\"24px\"viewBox=\"0 0 24 24\"\n",
              "     width=\"24px\">\n",
              "    <g>\n",
              "        <path d=\"M19 3H5c-1.1 0-2 .9-2 2v14c0 1.1.9 2 2 2h14c1.1 0 2-.9 2-2V5c0-1.1-.9-2-2-2zM9 17H7v-7h2v7zm4 0h-2V7h2v10zm4 0h-2v-4h2v4z\"/>\n",
              "    </g>\n",
              "</svg>\n",
              "  </button>\n",
              "\n",
              "<style>\n",
              "  .colab-df-quickchart {\n",
              "      --bg-color: #E8F0FE;\n",
              "      --fill-color: #1967D2;\n",
              "      --hover-bg-color: #E2EBFA;\n",
              "      --hover-fill-color: #174EA6;\n",
              "      --disabled-fill-color: #AAA;\n",
              "      --disabled-bg-color: #DDD;\n",
              "  }\n",
              "\n",
              "  [theme=dark] .colab-df-quickchart {\n",
              "      --bg-color: #3B4455;\n",
              "      --fill-color: #D2E3FC;\n",
              "      --hover-bg-color: #434B5C;\n",
              "      --hover-fill-color: #FFFFFF;\n",
              "      --disabled-bg-color: #3B4455;\n",
              "      --disabled-fill-color: #666;\n",
              "  }\n",
              "\n",
              "  .colab-df-quickchart {\n",
              "    background-color: var(--bg-color);\n",
              "    border: none;\n",
              "    border-radius: 50%;\n",
              "    cursor: pointer;\n",
              "    display: none;\n",
              "    fill: var(--fill-color);\n",
              "    height: 32px;\n",
              "    padding: 0;\n",
              "    width: 32px;\n",
              "  }\n",
              "\n",
              "  .colab-df-quickchart:hover {\n",
              "    background-color: var(--hover-bg-color);\n",
              "    box-shadow: 0 1px 2px rgba(60, 64, 67, 0.3), 0 1px 3px 1px rgba(60, 64, 67, 0.15);\n",
              "    fill: var(--button-hover-fill-color);\n",
              "  }\n",
              "\n",
              "  .colab-df-quickchart-complete:disabled,\n",
              "  .colab-df-quickchart-complete:disabled:hover {\n",
              "    background-color: var(--disabled-bg-color);\n",
              "    fill: var(--disabled-fill-color);\n",
              "    box-shadow: none;\n",
              "  }\n",
              "\n",
              "  .colab-df-spinner {\n",
              "    border: 2px solid var(--fill-color);\n",
              "    border-color: transparent;\n",
              "    border-bottom-color: var(--fill-color);\n",
              "    animation:\n",
              "      spin 1s steps(1) infinite;\n",
              "  }\n",
              "\n",
              "  @keyframes spin {\n",
              "    0% {\n",
              "      border-color: transparent;\n",
              "      border-bottom-color: var(--fill-color);\n",
              "      border-left-color: var(--fill-color);\n",
              "    }\n",
              "    20% {\n",
              "      border-color: transparent;\n",
              "      border-left-color: var(--fill-color);\n",
              "      border-top-color: var(--fill-color);\n",
              "    }\n",
              "    30% {\n",
              "      border-color: transparent;\n",
              "      border-left-color: var(--fill-color);\n",
              "      border-top-color: var(--fill-color);\n",
              "      border-right-color: var(--fill-color);\n",
              "    }\n",
              "    40% {\n",
              "      border-color: transparent;\n",
              "      border-right-color: var(--fill-color);\n",
              "      border-top-color: var(--fill-color);\n",
              "    }\n",
              "    60% {\n",
              "      border-color: transparent;\n",
              "      border-right-color: var(--fill-color);\n",
              "    }\n",
              "    80% {\n",
              "      border-color: transparent;\n",
              "      border-right-color: var(--fill-color);\n",
              "      border-bottom-color: var(--fill-color);\n",
              "    }\n",
              "    90% {\n",
              "      border-color: transparent;\n",
              "      border-bottom-color: var(--fill-color);\n",
              "    }\n",
              "  }\n",
              "</style>\n",
              "\n",
              "  <script>\n",
              "    async function quickchart(key) {\n",
              "      const quickchartButtonEl =\n",
              "        document.querySelector('#' + key + ' button');\n",
              "      quickchartButtonEl.disabled = true;  // To prevent multiple clicks.\n",
              "      quickchartButtonEl.classList.add('colab-df-spinner');\n",
              "      try {\n",
              "        const charts = await google.colab.kernel.invokeFunction(\n",
              "            'suggestCharts', [key], {});\n",
              "      } catch (error) {\n",
              "        console.error('Error during call to suggestCharts:', error);\n",
              "      }\n",
              "      quickchartButtonEl.classList.remove('colab-df-spinner');\n",
              "      quickchartButtonEl.classList.add('colab-df-quickchart-complete');\n",
              "    }\n",
              "    (() => {\n",
              "      let quickchartButtonEl =\n",
              "        document.querySelector('#df-87b4a033-3326-4fed-8e88-20e8ffedde5c button');\n",
              "      quickchartButtonEl.style.display =\n",
              "        google.colab.kernel.accessAllowed ? 'block' : 'none';\n",
              "    })();\n",
              "  </script>\n",
              "</div>\n",
              "\n",
              "    </div>\n",
              "  </div>\n"
            ],
            "application/vnd.google.colaboratory.intrinsic+json": {
              "type": "dataframe",
              "summary": "{\n  \"name\": \"pd\",\n  \"rows\": 29238,\n  \"fields\": [\n    {\n      \"column\": \"y\",\n      \"properties\": {\n        \"dtype\": \"number\",\n        \"std\": 0,\n        \"min\": 0,\n        \"max\": 1,\n        \"num_unique_values\": 2,\n        \"samples\": [\n          1,\n          0\n        ],\n        \"semantic_type\": \"\",\n        \"description\": \"\"\n      }\n    }\n  ]\n}"
            }
          },
          "metadata": {},
          "execution_count": 132
        }
      ]
    },
    {
      "cell_type": "code",
      "source": [
        "train_data_processed=pd.concat([pd.DataFrame(X_train_sc,columns=X.columns),\n",
        "                                pd.DataFrame(y_train,columns=['y'])],axis=1)"
      ],
      "metadata": {
        "id": "9qNDspOSVIeF"
      },
      "id": "9qNDspOSVIeF",
      "execution_count": 133,
      "outputs": []
    },
    {
      "cell_type": "code",
      "source": [
        "train_data_processed.to_csv('/content/train_data_processed.csv')"
      ],
      "metadata": {
        "id": "_2Y0WoUvUyP8"
      },
      "id": "_2Y0WoUvUyP8",
      "execution_count": 137,
      "outputs": []
    },
    {
      "cell_type": "code",
      "source": [
        "test_data_processed=pd.concat([pd.DataFrame(X_test_sc,columns=X.columns),\n",
        "                                pd.DataFrame(y_test,columns=['y'])],axis=1)"
      ],
      "metadata": {
        "id": "hqu1IZsgX2yQ"
      },
      "id": "hqu1IZsgX2yQ",
      "execution_count": 138,
      "outputs": []
    },
    {
      "cell_type": "code",
      "source": [
        "test_data_processed.to_csv('/content/test_data_processed.csv')"
      ],
      "metadata": {
        "id": "TiIaW3r5Yi5L"
      },
      "id": "TiIaW3r5Yi5L",
      "execution_count": 139,
      "outputs": []
    },
    {
      "cell_type": "code",
      "execution_count": 20,
      "id": "d0e2f6db",
      "metadata": {
        "colab": {
          "base_uri": "https://localhost:8080/",
          "height": 472
        },
        "id": "d0e2f6db",
        "outputId": "bde54eb8-3cd4-4a81-de59-9a103fe14db1"
      },
      "outputs": [
        {
          "output_type": "display_data",
          "data": {
            "text/plain": [
              "<Figure size 640x480 with 1 Axes>"
            ],
            "image/png": "[encoded data removed]"
          },
          "metadata": {}
        }
      ],
      "source": [
        "# Applying PCA on n number of components to see how many components needed to\n",
        "# to achieve more than 90% explained variance ratio\n",
        "\n",
        "from sklearn.decomposition import PCA\n",
        "\n",
        "n_components_range=np.arange(1,X_train_sc.shape[1]+1)\n",
        "explained_variances=[]\n",
        "\n",
        "for n_component in n_components_range:\n",
        "    pca=PCA(n_components=n_component)\n",
        "    X_train_pca=pca.fit_transform(X_train_sc)\n",
        "    explained_variance=pca.explained_variance_ratio_\n",
        "    explained_variances.append(np.sum(pca.explained_variance_ratio_))\n",
        "\n",
        "plt.plot(n_components_range,explained_variances,marker='o')\n",
        "plt.xlabel('Number of Components')\n",
        "plt.ylabel('Explained Variance Ratio')\n",
        "plt.title('Elbow Curve for PCA')\n",
        "plt.show()"
      ]
    },
    {
      "cell_type": "markdown",
      "id": "6e118224",
      "metadata": {
        "id": "6e118224"
      },
      "source": [
        "**We see that for n_component=30, we can reach 90% of the explained variance ratio. So we choose n_components=30**"
      ]
    },
    {
      "cell_type": "code",
      "execution_count": 21,
      "id": "1193b136",
      "metadata": {
        "id": "1193b136"
      },
      "outputs": [],
      "source": [
        "pca=PCA(n_components=30)\n",
        "X_train_pca=pca.fit_transform(X_train_sc)"
      ]
    },
    {
      "cell_type": "code",
      "execution_count": 22,
      "id": "406c660f",
      "metadata": {
        "colab": {
          "base_uri": "https://localhost:8080/"
        },
        "id": "406c660f",
        "outputId": "2454a707-abed-4e00-edc6-61b475a54c21"
      },
      "outputs": [
        {
          "output_type": "stream",
          "name": "stdout",
          "text": [
            "Shape of X train before PCA:  (29238, 59)\n",
            "Shape of X train after PCA:  (29238, 30)\n"
          ]
        }
      ],
      "source": [
        "print(\"Shape of X train before PCA: \",X_train_sc.shape)\n",
        "print(\"Shape of X train after PCA: \",X_train_pca.shape)\n"
      ]
    },
    {
      "cell_type": "code",
      "execution_count": 23,
      "id": "2e437259",
      "metadata": {
        "id": "2e437259"
      },
      "outputs": [],
      "source": [
        "X_test_pca=pca.transform(X_test_sc)"
      ]
    },
    {
      "cell_type": "code",
      "execution_count": 24,
      "id": "6f1f98ca",
      "metadata": {
        "colab": {
          "base_uri": "https://localhost:8080/"
        },
        "id": "6f1f98ca",
        "outputId": "6689d4e4-35af-43a6-d598-40623e20a322"
      },
      "outputs": [
        {
          "output_type": "stream",
          "name": "stdout",
          "text": [
            "Shape of X test before PCA:  (3680, 59)\n",
            "Shape of X test after PCA:  (3680, 30)\n"
          ]
        }
      ],
      "source": [
        "print(\"Shape of X test before PCA: \",X_test_sc.shape)\n",
        "print(\"Shape of X test after PCA: \",X_test_pca.shape)"
      ]
    },
    {
      "cell_type": "code",
      "execution_count": 42,
      "id": "1f2d0a34",
      "metadata": {
        "id": "1f2d0a34"
      },
      "outputs": [],
      "source": [
        "# Predict and evaluate the binary classifier\n",
        "\n",
        "def evaluate_model(clf,X_train,X_test):\n",
        "    clf.fit(X_train,y_train)\n",
        "    y_pred = clf.predict(X_test)\n",
        "    print(\"=================================================\")\n",
        "    print(\"Binary Classification - Predictictive Maintenance\")\n",
        "    print(\"=================================================\")\n",
        "    print(\"Accuracy:\", accuracy_score(y_test, y_pred))\n",
        "\n",
        "    print(\"Classification Report:\\n\", classification_report(y_test, y_pred,\n",
        "                                                            target_names=['No Anomaly','Anomaly']))\n",
        "    sns.heatmap(confusion_matrix(y_test, y_pred),annot=True,fmt='g',\n",
        "           yticklabels=['No Anomaly','Anomaly'],xticklabels=['No Anomaly','Anomaly'])\n",
        "    plt.xlabel('Predicted')\n",
        "    plt.ylabel('True')\n",
        "    plt.tight_layout()\n",
        "    plt.show()\n"
      ]
    },
    {
      "cell_type": "code",
      "source": [],
      "metadata": {
        "id": "Ub93aGR2hQEx"
      },
      "id": "Ub93aGR2hQEx",
      "execution_count": null,
      "outputs": []
    },
    {
      "cell_type": "code",
      "execution_count": 26,
      "id": "6061f15b",
      "metadata": {
        "id": "6061f15b"
      },
      "outputs": [],
      "source": [
        "from sklearn.linear_model import LogisticRegression\n",
        "from sklearn.svm import SVC\n",
        "from sklearn.tree import DecisionTreeClassifier\n",
        "from sklearn.metrics import accuracy_score,recall_score,f1_score"
      ]
    },
    {
      "cell_type": "code",
      "execution_count": 27,
      "id": "60b7d895",
      "metadata": {
        "id": "60b7d895"
      },
      "outputs": [],
      "source": [
        "from sklearn.ensemble import AdaBoostClassifier,GradientBoostingClassifier\n",
        "from xgboost import XGBClassifier"
      ]
    },
    {
      "cell_type": "code",
      "execution_count": 28,
      "id": "fba910a7",
      "metadata": {
        "id": "fba910a7"
      },
      "outputs": [],
      "source": [
        "model_dict={'Support Vector Classifier':SVC(),\n",
        "      'Random Forest': RandomForestClassifier(),\n",
        "      'Gradient Boosting Classifier' : GradientBoostingClassifier(),\n",
        "      'XGBoost':XGBClassifier()\n",
        "          }"
      ]
    },
    {
      "cell_type": "code",
      "execution_count": 29,
      "id": "582cb201",
      "metadata": {
        "id": "582cb201"
      },
      "outputs": [],
      "source": [
        "def model_results(model_dict):\n",
        "    results=[]\n",
        "    for modelname,model in model_dict.items():\n",
        "        model.fit(X_train_pca,y_train)\n",
        "        acc=accuracy_score(y_test,model.predict(X_test_pca))\n",
        "        rec=recall_score(y_test,model.predict(X_test_pca))\n",
        "        f1=f1_score(y_test,model.predict(X_test_pca))\n",
        "        crossvalscore=np.mean(cross_val_score(model,X_train_pca,y_train,cv=3))\n",
        "        results.append({'Model Name':modelname,\n",
        "                        'Accuracy':acc,\n",
        "                        'Recall':rec,\n",
        "                        'F1 Score':f1,\n",
        "                        'Cross Val Score': crossvalscore})\n",
        "    results_df=pd.DataFrame(results)\n",
        "    return results_df\n",
        ""
      ]
    },
    {
      "cell_type": "code",
      "execution_count": 30,
      "id": "2c1a21da",
      "metadata": {
        "colab": {
          "base_uri": "https://localhost:8080/",
          "height": 175
        },
        "id": "2c1a21da",
        "outputId": "a7979916-0028-4989-a31f-6c5cc68d8199"
      },
      "outputs": [
        {
          "output_type": "execute_result",
          "data": {
            "text/plain": [
              "                     Model Name  Accuracy  Recall  F1 Score  Cross Val Score\n",
              "0     Support Vector Classifier  0.982609    0.36  0.219512         0.990184\n",
              "1                 Random Forest  0.994837    0.32  0.457143         0.998940\n",
              "2  Gradient Boosting Classifier  0.943750    0.52  0.111588         0.965045\n",
              "3                       XGBoost  0.992935    0.32  0.380952         0.997093"
            ],
            "text/html": [
              "\n",
              "  <div id=\"df-58fcc337-da56-4f92-a2ee-59972c8efd93\" class=\"colab-df-container\">\n",
              "    <div>\n",
              "<style scoped>\n",
              "    .dataframe tbody tr th:only-of-type {\n",
              "        vertical-align: middle;\n",
              "    }\n",
              "\n",
              "    .dataframe tbody tr th {\n",
              "        vertical-align: top;\n",
              "    }\n",
              "\n",
              "    .dataframe thead th {\n",
              "        text-align: right;\n",
              "    }\n",
              "</style>\n",
              "<table border=\"1\" class=\"dataframe\">\n",
              "  <thead>\n",
              "    <tr style=\"text-align: right;\">\n",
              "      <th></th>\n",
              "      <th>Model Name</th>\n",
              "      <th>Accuracy</th>\n",
              "      <th>Recall</th>\n",
              "      <th>F1 Score</th>\n",
              "      <th>Cross Val Score</th>\n",
              "    </tr>\n",
              "  </thead>\n",
              "  <tbody>\n",
              "    <tr>\n",
              "      <th>0</th>\n",
              "      <td>Support Vector Classifier</td>\n",
              "      <td>0.982609</td>\n",
              "      <td>0.36</td>\n",
              "      <td>0.219512</td>\n",
              "      <td>0.990184</td>\n",
              "    </tr>\n",
              "    <tr>\n",
              "      <th>1</th>\n",
              "      <td>Random Forest</td>\n",
              "      <td>0.994837</td>\n",
              "      <td>0.32</td>\n",
              "      <td>0.457143</td>\n",
              "      <td>0.998940</td>\n",
              "    </tr>\n",
              "    <tr>\n",
              "      <th>2</th>\n",
              "      <td>Gradient Boosting Classifier</td>\n",
              "      <td>0.943750</td>\n",
              "      <td>0.52</td>\n",
              "      <td>0.111588</td>\n",
              "      <td>0.965045</td>\n",
              "    </tr>\n",
              "    <tr>\n",
              "      <th>3</th>\n",
              "      <td>XGBoost</td>\n",
              "      <td>0.992935</td>\n",
              "      <td>0.32</td>\n",
              "      <td>0.380952</td>\n",
              "      <td>0.997093</td>\n",
              "    </tr>\n",
              "  </tbody>\n",
              "</table>\n",
              "</div>\n",
              "    <div class=\"colab-df-buttons\">\n",
              "\n",
              "  <div class=\"colab-df-container\">\n",
              "    <button class=\"colab-df-convert\" onclick=\"convertToInteractive('df-58fcc337-da56-4f92-a2ee-59972c8efd93')\"\n",
              "            title=\"Convert this dataframe to an interactive table.\"\n",
              "            style=\"display:none;\">\n",
              "\n",
              "  <svg xmlns=\"http://www.w3.org/2000/svg\" height=\"24px\" viewBox=\"0 -960 960 960\">\n",
              "    <path d=\"M120-120v-720h720v720H120Zm60-500h600v-160H180v160Zm220 220h160v-160H400v160Zm0 220h160v-160H400v160ZM180-400h160v-160H180v160Zm440 0h160v-160H620v160ZM180-180h160v-160H180v160Zm440 0h160v-160H620v160Z\"/>\n",
              "  </svg>\n",
              "    </button>\n",
              "\n",
              "  <style>\n",
              "    .colab-df-container {\n",
              "      display:flex;\n",
              "      gap: 12px;\n",
              "    }\n",
              "\n",
              "    .colab-df-convert {\n",
              "      background-color: #E8F0FE;\n",
              "      border: none;\n",
              "      border-radius: 50%;\n",
              "      cursor: pointer;\n",
              "      display: none;\n",
              "      fill: #1967D2;\n",
              "      height: 32px;\n",
              "      padding: 0 0 0 0;\n",
              "      width: 32px;\n",
              "    }\n",
              "\n",
              "    .colab-df-convert:hover {\n",
              "      background-color: #E2EBFA;\n",
              "      box-shadow: 0px 1px 2px rgba(60, 64, 67, 0.3), 0px 1px 3px 1px rgba(60, 64, 67, 0.15);\n",
              "      fill: #174EA6;\n",
              "    }\n",
              "\n",
              "    .colab-df-buttons div {\n",
              "      margin-bottom: 4px;\n",
              "    }\n",
              "\n",
              "    [theme=dark] .colab-df-convert {\n",
              "      background-color: #3B4455;\n",
              "      fill: #D2E3FC;\n",
              "    }\n",
              "\n",
              "    [theme=dark] .colab-df-convert:hover {\n",
              "      background-color: #434B5C;\n",
              "      box-shadow: 0px 1px 3px 1px rgba(0, 0, 0, 0.15);\n",
              "      filter: drop-shadow(0px 1px 2px rgba(0, 0, 0, 0.3));\n",
              "      fill: #FFFFFF;\n",
              "    }\n",
              "  </style>\n",
              "\n",
              "    <script>\n",
              "      const buttonEl =\n",
              "        document.querySelector('#df-58fcc337-da56-4f92-a2ee-59972c8efd93 button.colab-df-convert');\n",
              "      buttonEl.style.display =\n",
              "        google.colab.kernel.accessAllowed ? 'block' : 'none';\n",
              "\n",
              "      async function convertToInteractive(key) {\n",
              "        const element = document.querySelector('#df-58fcc337-da56-4f92-a2ee-59972c8efd93');\n",
              "        const dataTable =\n",
              "          await google.colab.kernel.invokeFunction('convertToInteractive',\n",
              "                                                    [key], {});\n",
              "        if (!dataTable) return;\n",
              "\n",
              "        const docLinkHtml = 'Like what you see? Visit the ' +\n",
              "          '<a target=\"_blank\" href=https://colab.research.google.com/notebooks/data_table.ipynb>data table notebook</a>'\n",
              "          + ' to learn more about interactive tables.';\n",
              "        element.innerHTML = '';\n",
              "        dataTable['output_type'] = 'display_data';\n",
              "        await google.colab.output.renderOutput(dataTable, element);\n",
              "        const docLink = document.createElement('div');\n",
              "        docLink.innerHTML = docLinkHtml;\n",
              "        element.appendChild(docLink);\n",
              "      }\n",
              "    </script>\n",
              "  </div>\n",
              "\n",
              "\n",
              "<div id=\"df-94e99b9b-dd3c-4fed-a3bf-7f01d309b0bc\">\n",
              "  <button class=\"colab-df-quickchart\" onclick=\"quickchart('df-94e99b9b-dd3c-4fed-a3bf-7f01d309b0bc')\"\n",
              "            title=\"Suggest charts\"\n",
              "            style=\"display:none;\">\n",
              "\n",
              "<svg xmlns=\"http://www.w3.org/2000/svg\" height=\"24px\"viewBox=\"0 0 24 24\"\n",
              "     width=\"24px\">\n",
              "    <g>\n",
              "        <path d=\"M19 3H5c-1.1 0-2 .9-2 2v14c0 1.1.9 2 2 2h14c1.1 0 2-.9 2-2V5c0-1.1-.9-2-2-2zM9 17H7v-7h2v7zm4 0h-2V7h2v10zm4 0h-2v-4h2v4z\"/>\n",
              "    </g>\n",
              "</svg>\n",
              "  </button>\n",
              "\n",
              "<style>\n",
              "  .colab-df-quickchart {\n",
              "      --bg-color: #E8F0FE;\n",
              "      --fill-color: #1967D2;\n",
              "      --hover-bg-color: #E2EBFA;\n",
              "      --hover-fill-color: #174EA6;\n",
              "      --disabled-fill-color: #AAA;\n",
              "      --disabled-bg-color: #DDD;\n",
              "  }\n",
              "\n",
              "  [theme=dark] .colab-df-quickchart {\n",
              "      --bg-color: #3B4455;\n",
              "      --fill-color: #D2E3FC;\n",
              "      --hover-bg-color: #434B5C;\n",
              "      --hover-fill-color: #FFFFFF;\n",
              "      --disabled-bg-color: #3B4455;\n",
              "      --disabled-fill-color: #666;\n",
              "  }\n",
              "\n",
              "  .colab-df-quickchart {\n",
              "    background-color: var(--bg-color);\n",
              "    border: none;\n",
              "    border-radius: 50%;\n",
              "    cursor: pointer;\n",
              "    display: none;\n",
              "    fill: var(--fill-color);\n",
              "    height: 32px;\n",
              "    padding: 0;\n",
              "    width: 32px;\n",
              "  }\n",
              "\n",
              "  .colab-df-quickchart:hover {\n",
              "    background-color: var(--hover-bg-color);\n",
              "    box-shadow: 0 1px 2px rgba(60, 64, 67, 0.3), 0 1px 3px 1px rgba(60, 64, 67, 0.15);\n",
              "    fill: var(--button-hover-fill-color);\n",
              "  }\n",
              "\n",
              "  .colab-df-quickchart-complete:disabled,\n",
              "  .colab-df-quickchart-complete:disabled:hover {\n",
              "    background-color: var(--disabled-bg-color);\n",
              "    fill: var(--disabled-fill-color);\n",
              "    box-shadow: none;\n",
              "  }\n",
              "\n",
              "  .colab-df-spinner {\n",
              "    border: 2px solid var(--fill-color);\n",
              "    border-color: transparent;\n",
              "    border-bottom-color: var(--fill-color);\n",
              "    animation:\n",
              "      spin 1s steps(1) infinite;\n",
              "  }\n",
              "\n",
              "  @keyframes spin {\n",
              "    0% {\n",
              "      border-color: transparent;\n",
              "      border-bottom-color: var(--fill-color);\n",
              "      border-left-color: var(--fill-color);\n",
              "    }\n",
              "    20% {\n",
              "      border-color: transparent;\n",
              "      border-left-color: var(--fill-color);\n",
              "      border-top-color: var(--fill-color);\n",
              "    }\n",
              "    30% {\n",
              "      border-color: transparent;\n",
              "      border-left-color: var(--fill-color);\n",
              "      border-top-color: var(--fill-color);\n",
              "      border-right-color: var(--fill-color);\n",
              "    }\n",
              "    40% {\n",
              "      border-color: transparent;\n",
              "      border-right-color: var(--fill-color);\n",
              "      border-top-color: var(--fill-color);\n",
              "    }\n",
              "    60% {\n",
              "      border-color: transparent;\n",
              "      border-right-color: var(--fill-color);\n",
              "    }\n",
              "    80% {\n",
              "      border-color: transparent;\n",
              "      border-right-color: var(--fill-color);\n",
              "      border-bottom-color: var(--fill-color);\n",
              "    }\n",
              "    90% {\n",
              "      border-color: transparent;\n",
              "      border-bottom-color: var(--fill-color);\n",
              "    }\n",
              "  }\n",
              "</style>\n",
              "\n",
              "  <script>\n",
              "    async function quickchart(key) {\n",
              "      const quickchartButtonEl =\n",
              "        document.querySelector('#' + key + ' button');\n",
              "      quickchartButtonEl.disabled = true;  // To prevent multiple clicks.\n",
              "      quickchartButtonEl.classList.add('colab-df-spinner');\n",
              "      try {\n",
              "        const charts = await google.colab.kernel.invokeFunction(\n",
              "            'suggestCharts', [key], {});\n",
              "      } catch (error) {\n",
              "        console.error('Error during call to suggestCharts:', error);\n",
              "      }\n",
              "      quickchartButtonEl.classList.remove('colab-df-spinner');\n",
              "      quickchartButtonEl.classList.add('colab-df-quickchart-complete');\n",
              "    }\n",
              "    (() => {\n",
              "      let quickchartButtonEl =\n",
              "        document.querySelector('#df-94e99b9b-dd3c-4fed-a3bf-7f01d309b0bc button');\n",
              "      quickchartButtonEl.style.display =\n",
              "        google.colab.kernel.accessAllowed ? 'block' : 'none';\n",
              "    })();\n",
              "  </script>\n",
              "</div>\n",
              "\n",
              "    </div>\n",
              "  </div>\n"
            ],
            "application/vnd.google.colaboratory.intrinsic+json": {
              "type": "dataframe",
              "summary": "{\n  \"name\": \"model_results(model_dict)\",\n  \"rows\": 4,\n  \"fields\": [\n    {\n      \"column\": \"Model Name\",\n      \"properties\": {\n        \"dtype\": \"string\",\n        \"num_unique_values\": 4,\n        \"samples\": [\n          \"Random Forest\",\n          \"XGBoost\",\n          \"Support Vector Classifier\"\n        ],\n        \"semantic_type\": \"\",\n        \"description\": \"\"\n      }\n    },\n    {\n      \"column\": \"Accuracy\",\n      \"properties\": {\n        \"dtype\": \"number\",\n        \"std\": 0.0238026519811523,\n        \"min\": 0.94375,\n        \"max\": 0.9948369565217391,\n        \"num_unique_values\": 4,\n        \"samples\": [\n          0.9948369565217391,\n          0.9929347826086956,\n          0.9826086956521739\n        ],\n        \"semantic_type\": \"\",\n        \"description\": \"\"\n      }\n    },\n    {\n      \"column\": \"Recall\",\n      \"properties\": {\n        \"dtype\": \"number\",\n        \"std\": 0.09521904571390467,\n        \"min\": 0.32,\n        \"max\": 0.52,\n        \"num_unique_values\": 3,\n        \"samples\": [\n          0.36,\n          0.32,\n          0.52\n        ],\n        \"semantic_type\": \"\",\n        \"description\": \"\"\n      }\n    },\n    {\n      \"column\": \"F1 Score\",\n      \"properties\": {\n        \"dtype\": \"number\",\n        \"std\": 0.15597789360671424,\n        \"min\": 0.11158798283261803,\n        \"max\": 0.45714285714285713,\n        \"num_unique_values\": 4,\n        \"samples\": [\n          0.45714285714285713,\n          0.38095238095238104,\n          0.21951219512195122\n        ],\n        \"semantic_type\": \"\",\n        \"description\": \"\"\n      }\n    },\n    {\n      \"column\": \"Cross Val Score\",\n      \"properties\": {\n        \"dtype\": \"number\",\n        \"std\": 0.01564076524371024,\n        \"min\": 0.9650454887475205,\n        \"max\": 0.998939735960052,\n        \"num_unique_values\": 4,\n        \"samples\": [\n          0.998939735960052,\n          0.9970928244065941,\n          0.9901840071140297\n        ],\n        \"semantic_type\": \"\",\n        \"description\": \"\"\n      }\n    }\n  ]\n}"
            }
          },
          "metadata": {},
          "execution_count": 30
        }
      ],
      "source": [
        "model_results(model_dict)"
      ]
    },
    {
      "cell_type": "markdown",
      "source": [
        "#### For all the models, recall is extremely low, which means model isn't performing well on test data"
      ],
      "metadata": {
        "id": "HTkgf8MQRUwi"
      },
      "id": "HTkgf8MQRUwi"
    },
    {
      "cell_type": "code",
      "execution_count": 43,
      "id": "31446e36",
      "metadata": {
        "colab": {
          "base_uri": "https://localhost:8080/",
          "height": 737
        },
        "id": "31446e36",
        "outputId": "e7c68102-c54b-4e74-faa5-02792f64bcb2"
      },
      "outputs": [
        {
          "output_type": "stream",
          "name": "stdout",
          "text": [
            "=================================================\n",
            "Binary Classification - Predictictive Maintenance\n",
            "=================================================\n",
            "Accuracy: 0.9934782608695653\n",
            "Classification Report:\n",
            "               precision    recall  f1-score   support\n",
            "\n",
            "  No Anomaly       0.99      1.00      1.00      3655\n",
            "     Anomaly       0.56      0.20      0.29        25\n",
            "\n",
            "    accuracy                           0.99      3680\n",
            "   macro avg       0.78      0.60      0.65      3680\n",
            "weighted avg       0.99      0.99      0.99      3680\n",
            "\n"
          ]
        },
        {
          "output_type": "display_data",
          "data": {
            "text/plain": [
              "<Figure size 640x480 with 2 Axes>"
            ],
            "image/png": "[encoded data removed]"
          },
          "metadata": {}
        }
      ],
      "source": [
        "rf_clf=RandomForestClassifier()\n",
        "evaluate_model(rf_clf,X_train_pca,X_test_pca)"
      ]
    },
    {
      "cell_type": "code",
      "source": [
        "gb_clf=GradientBoostingClassifier()\n",
        "evaluate_model(gb_clf,X_train_pca,X_test_pca)"
      ],
      "metadata": {
        "colab": {
          "base_uri": "https://localhost:8080/",
          "height": 737
        },
        "id": "MUpzHRa2hjf-",
        "outputId": "65807d1b-05be-491a-ac07-2761be91c26b"
      },
      "id": "MUpzHRa2hjf-",
      "execution_count": 44,
      "outputs": [
        {
          "output_type": "stream",
          "name": "stdout",
          "text": [
            "=================================================\n",
            "Binary Classification - Predictictive Maintenance\n",
            "=================================================\n",
            "Accuracy: 0.94375\n",
            "Classification Report:\n",
            "               precision    recall  f1-score   support\n",
            "\n",
            "  No Anomaly       1.00      0.95      0.97      3655\n",
            "     Anomaly       0.06      0.52      0.11        25\n",
            "\n",
            "    accuracy                           0.94      3680\n",
            "   macro avg       0.53      0.73      0.54      3680\n",
            "weighted avg       0.99      0.94      0.97      3680\n",
            "\n"
          ]
        },
        {
          "output_type": "display_data",
          "data": {
            "text/plain": [
              "<Figure size 640x480 with 2 Axes>"
            ],
            "image/png": "[encoded data removed]"
          },
          "metadata": {}
        }
      ]
    },
    {
      "cell_type": "markdown",
      "source": [
        "#### For both the models, we see from the confusion matrix and classification report that the recall is extremely low. So we use a different method instead of PCA."
      ],
      "metadata": {
        "id": "x9SxdDmNRqcS"
      },
      "id": "x9SxdDmNRqcS"
    },
    {
      "cell_type": "markdown",
      "source": [
        "## Using Feature Selection"
      ],
      "metadata": {
        "id": "fOtTA_BR0A-h"
      },
      "id": "fOtTA_BR0A-h"
    },
    {
      "cell_type": "code",
      "source": [
        "from sklearn.feature_selection import SelectFromModel\n"
      ],
      "metadata": {
        "id": "qWmsIcn2hSZ9"
      },
      "id": "qWmsIcn2hSZ9",
      "execution_count": 61,
      "outputs": []
    },
    {
      "cell_type": "code",
      "source": [
        "# Function to select the best features and show the evaluation metrics for that best model\n",
        "def select_from_model(clf):\n",
        "  sfm=SelectFromModel(clf)\n",
        "  sfm.fit(X_train_sc, y_train)\n",
        "  sfm.transform(X_train_sc)\n",
        "  X_train_sc_df=pd.DataFrame(X_train_sc,columns=X.columns)\n",
        "  X_train_sc_df=X_train_sc_df[X_train_sc_df.columns[sfm.get_support()]]\n",
        "  X_test_sc_df=pd.DataFrame(X_test_sc,columns=X.columns)\n",
        "  X_test_sc_df=X_test_sc_df[X_test_sc_df.columns[sfm.get_support()]]\n",
        "  clf=sfm.estimator_\n",
        "  evaluate_model(clf,X_train_sc_df,X_test_sc_df)\n"
      ],
      "metadata": {
        "id": "cx2cWEkSm5_U"
      },
      "id": "cx2cWEkSm5_U",
      "execution_count": 57,
      "outputs": []
    },
    {
      "cell_type": "code",
      "source": [
        "\n",
        "gb_clf2=GradientBoostingClassifier()\n",
        "gb_clf2.fit(X_train_sc,y_train)\n",
        "select_from_model(gb_clf2)"
      ],
      "metadata": {
        "colab": {
          "base_uri": "https://localhost:8080/",
          "height": 737
        },
        "id": "_hWYeBfLoDK3",
        "outputId": "32ccfd6d-679b-44cb-c3b5-d8c7d4fb2373"
      },
      "id": "_hWYeBfLoDK3",
      "execution_count": 58,
      "outputs": [
        {
          "output_type": "stream",
          "name": "stdout",
          "text": [
            "=================================================\n",
            "Binary Classification - Predictictive Maintenance\n",
            "=================================================\n",
            "Accuracy: 0.9739130434782609\n",
            "Classification Report:\n",
            "               precision    recall  f1-score   support\n",
            "\n",
            "  No Anomaly       1.00      0.97      0.99      3655\n",
            "     Anomaly       0.19      0.84      0.30        25\n",
            "\n",
            "    accuracy                           0.97      3680\n",
            "   macro avg       0.59      0.91      0.65      3680\n",
            "weighted avg       0.99      0.97      0.98      3680\n",
            "\n"
          ]
        },
        {
          "output_type": "display_data",
          "data": {
            "text/plain": [
              "<Figure size 640x480 with 2 Axes>"
            ],
            "image/png": "[encoded data removed]"
          },
          "metadata": {}
        }
      ]
    },
    {
      "cell_type": "code",
      "source": [
        "rf_clf2=RandomForestClassifier()\n",
        "rf_clf2.fit(X_train_sc,y_train)\n",
        "select_from_model(rf_clf2)"
      ],
      "metadata": {
        "colab": {
          "base_uri": "https://localhost:8080/",
          "height": 737
        },
        "id": "t-2HrgmXpECp",
        "outputId": "153f5645-5fef-4b6e-8443-ee48da7909fc"
      },
      "id": "t-2HrgmXpECp",
      "execution_count": 59,
      "outputs": [
        {
          "output_type": "stream",
          "name": "stdout",
          "text": [
            "=================================================\n",
            "Binary Classification - Predictictive Maintenance\n",
            "=================================================\n",
            "Accuracy: 0.9959239130434783\n",
            "Classification Report:\n",
            "               precision    recall  f1-score   support\n",
            "\n",
            "  No Anomaly       1.00      1.00      1.00      3655\n",
            "     Anomaly       0.67      0.80      0.73        25\n",
            "\n",
            "    accuracy                           1.00      3680\n",
            "   macro avg       0.83      0.90      0.86      3680\n",
            "weighted avg       1.00      1.00      1.00      3680\n",
            "\n"
          ]
        },
        {
          "output_type": "display_data",
          "data": {
            "text/plain": [
              "<Figure size 640x480 with 2 Axes>"
            ],
            "image/png": "[encoded data removed]"
          },
          "metadata": {}
        }
      ]
    },
    {
      "cell_type": "code",
      "source": [
        "xgb_clf=XGBClassifier()\n",
        "xgb_clf.fit(X_train_sc,y_train)\n",
        "select_from_model(xgb_clf)"
      ],
      "metadata": {
        "colab": {
          "base_uri": "https://localhost:8080/",
          "height": 737
        },
        "id": "0Sc4NE7GuqEO",
        "outputId": "0e3defcb-d892-40e8-b7ec-29fd7b36bf1d"
      },
      "id": "0Sc4NE7GuqEO",
      "execution_count": 60,
      "outputs": [
        {
          "output_type": "stream",
          "name": "stdout",
          "text": [
            "=================================================\n",
            "Binary Classification - Predictictive Maintenance\n",
            "=================================================\n",
            "Accuracy: 0.9951086956521739\n",
            "Classification Report:\n",
            "               precision    recall  f1-score   support\n",
            "\n",
            "  No Anomaly       1.00      1.00      1.00      3655\n",
            "     Anomaly       0.61      0.80      0.69        25\n",
            "\n",
            "    accuracy                           1.00      3680\n",
            "   macro avg       0.80      0.90      0.84      3680\n",
            "weighted avg       1.00      1.00      1.00      3680\n",
            "\n"
          ]
        },
        {
          "output_type": "display_data",
          "data": {
            "text/plain": [
              "<Figure size 640x480 with 2 Axes>"
            ],
            "image/png": "[encoded data removed]"
          },
          "metadata": {}
        }
      ]
    },
    {
      "cell_type": "markdown",
      "source": [
        "### As we can see, the Gradient Boosting Classifier has excellent recall on the 'Anomaly'(1) class, but overall accuracy and F1 score is higher for Random Forest Model. The Random Forest Model is also slightly performing better than the XGBoost model\n",
        "\n",
        "### We see that the test data is highly imbalanced but still model performs very well with feature selection."
      ],
      "metadata": {
        "id": "DnVq1l8Lubf8"
      },
      "id": "DnVq1l8Lubf8"
    },
    {
      "cell_type": "markdown",
      "source": [
        "### Hyperparameter tuning for the Random Forest Model"
      ],
      "metadata": {
        "id": "-hQbr9LvSeDZ"
      },
      "id": "-hQbr9LvSeDZ"
    },
    {
      "cell_type": "code",
      "source": [
        "  # Selecting the best features and building the Random forest model\n",
        "  sfm=SelectFromModel(rf_clf2)\n",
        "  sfm.fit(X_train_sc, y_train)\n",
        "  sfm.transform(X_train_sc)\n",
        "  X_train_sc_df=pd.DataFrame(X_train_sc,columns=X.columns)\n",
        "  X_train_sc_df=X_train_sc_df[X_train_sc_df.columns[sfm.get_support()]]\n",
        "  X_test_sc_df=pd.DataFrame(X_test_sc,columns=X.columns)\n",
        "  X_test_sc_df=X_test_sc_df[X_test_sc_df.columns[sfm.get_support()]]\n",
        "  rf_clf2=sfm.estimator_"
      ],
      "metadata": {
        "id": "VJSmX1pr2w5t"
      },
      "id": "VJSmX1pr2w5t",
      "execution_count": 67,
      "outputs": []
    },
    {
      "cell_type": "code",
      "source": [
        "from sklearn.model_selection import GridSearchCV\n",
        "\n",
        "# Defining the parameter grid\n",
        "param_grid = {\n",
        "    'n_estimators': [300,400],\n",
        "    'max_depth': [None, 10, 20],\n",
        "    'min_samples_split': [2, 5,10],\n",
        "    'min_samples_leaf': [1, 2, 4],\n",
        "\n",
        "}\n",
        "\n",
        "# Initialize GridSearchCV\n",
        "grid_search = GridSearchCV(estimator=rf_clf2, param_grid=param_grid, cv=3, scoring='accuracy', verbose=2, n_jobs=-1)\n",
        "\n",
        "# Fit GridSearchCV\n",
        "grid_search.fit(X_train_sc_df, y_train)\n",
        "\n",
        "# Get the best parameters\n",
        "best_params = grid_search.best_params_\n",
        "print(\"Best Parameters:\", best_params)"
      ],
      "metadata": {
        "colab": {
          "base_uri": "https://localhost:8080/"
        },
        "id": "U0x68dG7zmyx",
        "outputId": "4cf49358-13ec-4236-bcc3-b27a255c3019"
      },
      "id": "U0x68dG7zmyx",
      "execution_count": 68,
      "outputs": [
        {
          "output_type": "stream",
          "name": "stdout",
          "text": [
            "Fitting 3 folds for each of 54 candidates, totalling 162 fits\n",
            "Best Parameters: {'max_depth': None, 'min_samples_leaf': 1, 'min_samples_split': 2, 'n_estimators': 300}\n"
          ]
        }
      ]
    },
    {
      "cell_type": "code",
      "source": [
        "# The best Random Forest Model\n",
        "best_rf_clf=grid_search.best_estimator_"
      ],
      "metadata": {
        "id": "Iy4ESY_H1kRj"
      },
      "id": "Iy4ESY_H1kRj",
      "execution_count": 69,
      "outputs": []
    },
    {
      "cell_type": "code",
      "source": [
        "evaluate_model(best_rf_clf,X_train_sc_df,X_test_sc_df)"
      ],
      "metadata": {
        "colab": {
          "base_uri": "https://localhost:8080/",
          "height": 737
        },
        "id": "JuFRCfFa1x_Q",
        "outputId": "34f922ce-8bbb-42bc-a5e7-8d8901289891"
      },
      "id": "JuFRCfFa1x_Q",
      "execution_count": 70,
      "outputs": [
        {
          "output_type": "stream",
          "name": "stdout",
          "text": [
            "=================================================\n",
            "Binary Classification - Predictictive Maintenance\n",
            "=================================================\n",
            "Accuracy: 0.9967391304347826\n",
            "Classification Report:\n",
            "               precision    recall  f1-score   support\n",
            "\n",
            "  No Anomaly       1.00      1.00      1.00      3655\n",
            "     Anomaly       0.71      0.88      0.79        25\n",
            "\n",
            "    accuracy                           1.00      3680\n",
            "   macro avg       0.85      0.94      0.89      3680\n",
            "weighted avg       1.00      1.00      1.00      3680\n",
            "\n"
          ]
        },
        {
          "output_type": "display_data",
          "data": {
            "text/plain": [
              "<Figure size 640x480 with 2 Axes>"
            ],
            "image/png": "[encoded data removed]"
          },
          "metadata": {}
        }
      ]
    },
    {
      "cell_type": "markdown",
      "source": [
        "### As we can see that for our tuned Random Forest model, the accuracy, F1 score has increased compared to the untuned model."
      ],
      "metadata": {
        "id": "Q35cqeAKBVkE"
      },
      "id": "Q35cqeAKBVkE"
    },
    {
      "cell_type": "markdown",
      "source": [
        "### Saving the model as a pickle file"
      ],
      "metadata": {
        "id": "TGzRmPGES6xO"
      },
      "id": "TGzRmPGES6xO"
    },
    {
      "cell_type": "code",
      "source": [
        "import pickle"
      ],
      "metadata": {
        "id": "wxWuI5RjBsEM"
      },
      "id": "wxWuI5RjBsEM",
      "execution_count": 71,
      "outputs": []
    },
    {
      "cell_type": "code",
      "source": [
        "with open('/content/random_forest_model.pkl', 'wb') as file:\n",
        "    pickle.dump(best_rf_clf, file)"
      ],
      "metadata": {
        "id": "E2XsHBYVCDWN"
      },
      "id": "E2XsHBYVCDWN",
      "execution_count": 74,
      "outputs": []
    },
    {
      "cell_type": "code",
      "source": [
        "from google.colab import files\n",
        "\n",
        "# Download the file\n",
        "files.download('/content/random_forest_model.pkl')"
      ],
      "metadata": {
        "colab": {
          "base_uri": "https://localhost:8080/",
          "height": 17
        },
        "id": "TBDjjrjYCkKy",
        "outputId": "b34a486d-3efb-4d8a-cd5e-c95ec377e26e"
      },
      "id": "TBDjjrjYCkKy",
      "execution_count": 75,
      "outputs": [
        {
          "output_type": "display_data",
          "data": {
            "text/plain": [
              "<IPython.core.display.Javascript object>"
            ],
            "application/javascript": [
              "\n",
              "    async function download(id, filename, size) {\n",
              "      if (!google.colab.kernel.accessAllowed) {\n",
              "        return;\n",
              "      }\n",
              "      const div = document.createElement('div');\n",
              "      const label = document.createElement('label');\n",
              "      label.textContent = `Downloading \"${filename}\": `;\n",
              "      div.appendChild(label);\n",
              "      const progress = document.createElement('progress');\n",
              "      progress.max = size;\n",
              "      div.appendChild(progress);\n",
              "      document.body.appendChild(div);\n",
              "\n",
              "      const buffers = [];\n",
              "      let downloaded = 0;\n",
              "\n",
              "      const channel = await google.colab.kernel.comms.open(id);\n",
              "      // Send a message to notify the kernel that we're ready.\n",
              "      channel.send({})\n",
              "\n",
              "      for await (const message of channel.messages) {\n",
              "        // Send a message to notify the kernel that we're ready.\n",
              "        channel.send({})\n",
              "        if (message.buffers) {\n",
              "          for (const buffer of message.buffers) {\n",
              "            buffers.push(buffer);\n",
              "            downloaded += buffer.byteLength;\n",
              "            progress.value = downloaded;\n",
              "          }\n",
              "        }\n",
              "      }\n",
              "      const blob = new Blob(buffers, {type: 'application/binary'});\n",
              "      const a = document.createElement('a');\n",
              "      a.href = window.URL.createObjectURL(blob);\n",
              "      a.download = filename;\n",
              "      div.appendChild(a);\n",
              "      a.click();\n",
              "      div.remove();\n",
              "    }\n",
              "  "
            ]
          },
          "metadata": {}
        },
        {
          "output_type": "display_data",
          "data": {
            "text/plain": [
              "<IPython.core.display.Javascript object>"
            ],
            "application/javascript": [
              "download(\"download_05b3393e-1262-4e38-acb4-2ac461a9065b\", \"random_forest_model.pkl\", 16813735)"
            ]
          },
          "metadata": {}
        }
      ]
    },
    {
      "cell_type": "markdown",
      "source": [
        "### Using Deep Learning"
      ],
      "metadata": {
        "id": "9M4PmKbyTBCt"
      },
      "id": "9M4PmKbyTBCt"
    },
    {
      "cell_type": "code",
      "source": [
        "from tensorflow.keras.models import Sequential\n",
        "from tensorflow.keras.layers import Dense,Dropout\n",
        "\n"
      ],
      "metadata": {
        "id": "DMDG8_-bEQXs"
      },
      "id": "DMDG8_-bEQXs",
      "execution_count": 122,
      "outputs": []
    },
    {
      "cell_type": "code",
      "source": [
        "model=Sequential()\n",
        "model.add(Dense(128,activation='relu',input_shape=(59,)))\n",
        "model.add(Dropout(0.5))\n",
        "model.add(Dense(64,activation='relu'))\n",
        "model.add(Dropout(0.5))\n",
        "model.add(Dense(1,activation='sigmoid'))\n",
        "\n",
        "model.compile(optimizer='adam',loss='binary_crossentropy',metrics=['accuracy'])\n"
      ],
      "metadata": {
        "id": "2rArEfukEgHc"
      },
      "id": "2rArEfukEgHc",
      "execution_count": 123,
      "outputs": []
    },
    {
      "cell_type": "code",
      "source": [
        "model.fit(X_train_sc,y_train,validation_data=(X_test_sc,y_test),batch_size=32,epochs=20)"
      ],
      "metadata": {
        "colab": {
          "base_uri": "https://localhost:8080/"
        },
        "id": "ckhDxmMkFtTZ",
        "outputId": "51b19e4b-abc1-4652-fcee-29d19c84c5d9"
      },
      "id": "ckhDxmMkFtTZ",
      "execution_count": 124,
      "outputs": [
        {
          "output_type": "stream",
          "name": "stdout",
          "text": [
            "Epoch 1/20\n",
            "914/914 [==============================] - 4s 3ms/step - loss: 0.2843 - accuracy: 0.8747 - val_loss: 0.2015 - val_accuracy: 0.9560\n",
            "Epoch 2/20\n",
            "914/914 [==============================] - 3s 3ms/step - loss: 0.1018 - accuracy: 0.9655 - val_loss: 0.3090 - val_accuracy: 0.9878\n",
            "Epoch 3/20\n",
            "914/914 [==============================] - 4s 4ms/step - loss: 0.0601 - accuracy: 0.9811 - val_loss: 0.5282 - val_accuracy: 0.9875\n",
            "Epoch 4/20\n",
            "914/914 [==============================] - 2s 3ms/step - loss: 0.0442 - accuracy: 0.9871 - val_loss: 0.6363 - val_accuracy: 0.9883\n",
            "Epoch 5/20\n",
            "914/914 [==============================] - 2s 2ms/step - loss: 0.0318 - accuracy: 0.9903 - val_loss: 0.8399 - val_accuracy: 0.9913\n",
            "Epoch 6/20\n",
            "914/914 [==============================] - 2s 3ms/step - loss: 0.0267 - accuracy: 0.9921 - val_loss: 0.9352 - val_accuracy: 0.9908\n",
            "Epoch 7/20\n",
            "914/914 [==============================] - 3s 3ms/step - loss: 0.0246 - accuracy: 0.9926 - val_loss: 1.0304 - val_accuracy: 0.9918\n",
            "Epoch 8/20\n",
            "914/914 [==============================] - 4s 4ms/step - loss: 0.0185 - accuracy: 0.9945 - val_loss: 1.1935 - val_accuracy: 0.9867\n",
            "Epoch 9/20\n",
            "914/914 [==============================] - 3s 3ms/step - loss: 0.0204 - accuracy: 0.9934 - val_loss: 1.1871 - val_accuracy: 0.9927\n",
            "Epoch 10/20\n",
            "914/914 [==============================] - 3s 3ms/step - loss: 0.0160 - accuracy: 0.9952 - val_loss: 1.3342 - val_accuracy: 0.9932\n",
            "Epoch 11/20\n",
            "914/914 [==============================] - 3s 3ms/step - loss: 0.0159 - accuracy: 0.9952 - val_loss: 1.5859 - val_accuracy: 0.9935\n",
            "Epoch 12/20\n",
            "914/914 [==============================] - 3s 3ms/step - loss: 0.0166 - accuracy: 0.9956 - val_loss: 1.5284 - val_accuracy: 0.9927\n",
            "Epoch 13/20\n",
            "914/914 [==============================] - 4s 4ms/step - loss: 0.0151 - accuracy: 0.9961 - val_loss: 1.6516 - val_accuracy: 0.9932\n",
            "Epoch 14/20\n",
            "914/914 [==============================] - 3s 3ms/step - loss: 0.0140 - accuracy: 0.9961 - val_loss: 1.6380 - val_accuracy: 0.9940\n",
            "Epoch 15/20\n",
            "914/914 [==============================] - 2s 3ms/step - loss: 0.0112 - accuracy: 0.9969 - val_loss: 1.8362 - val_accuracy: 0.9937\n",
            "Epoch 16/20\n",
            "914/914 [==============================] - 2s 3ms/step - loss: 0.0151 - accuracy: 0.9953 - val_loss: 1.8580 - val_accuracy: 0.9924\n",
            "Epoch 17/20\n",
            "914/914 [==============================] - 2s 3ms/step - loss: 0.0129 - accuracy: 0.9963 - val_loss: 1.9435 - val_accuracy: 0.9929\n",
            "Epoch 18/20\n",
            "914/914 [==============================] - 4s 4ms/step - loss: 0.0124 - accuracy: 0.9965 - val_loss: 2.0000 - val_accuracy: 0.9940\n",
            "Epoch 19/20\n",
            "914/914 [==============================] - 2s 2ms/step - loss: 0.0121 - accuracy: 0.9962 - val_loss: 1.9488 - val_accuracy: 0.9929\n",
            "Epoch 20/20\n",
            "914/914 [==============================] - 2s 3ms/step - loss: 0.0108 - accuracy: 0.9970 - val_loss: 1.8913 - val_accuracy: 0.9935\n"
          ]
        },
        {
          "output_type": "execute_result",
          "data": {
            "text/plain": [
              "<keras.src.callbacks.History at 0x7c809023a6b0>"
            ]
          },
          "metadata": {},
          "execution_count": 124
        }
      ]
    },
    {
      "cell_type": "code",
      "source": [
        "loss,accuracy=model.evaluate(X_test_sc,y_test)"
      ],
      "metadata": {
        "colab": {
          "base_uri": "https://localhost:8080/"
        },
        "id": "qgWdXG9WGVLY",
        "outputId": "a161e230-2c9c-44e6-c7f6-dfbeac1ed59e"
      },
      "id": "qgWdXG9WGVLY",
      "execution_count": 107,
      "outputs": [
        {
          "output_type": "stream",
          "name": "stdout",
          "text": [
            "115/115 [==============================] - 0s 2ms/step - loss: 2.0330 - accuracy: 0.9937\n"
          ]
        }
      ]
    },
    {
      "cell_type": "code",
      "source": [],
      "metadata": {
        "id": "shoC06aMIbmH"
      },
      "id": "shoC06aMIbmH",
      "execution_count": 94,
      "outputs": []
    },
    {
      "cell_type": "code",
      "source": [
        "threshold = 0.5\n",
        "y_pred_prob=model.predict(X_test_sc)\n",
        "y_pred_classes = (y_pred_prob >= threshold).astype(int)"
      ],
      "metadata": {
        "colab": {
          "base_uri": "https://localhost:8080/"
        },
        "id": "91RaMaomGbU6",
        "outputId": "744daa99-4b82-436c-c7ce-796a125292f3"
      },
      "id": "91RaMaomGbU6",
      "execution_count": 118,
      "outputs": [
        {
          "output_type": "stream",
          "name": "stdout",
          "text": [
            "115/115 [==============================] - 0s 1ms/step\n"
          ]
        }
      ]
    },
    {
      "cell_type": "code",
      "source": [
        "print(\"Predicted probabilities:\", y_pred_prob[:10].flatten())\n",
        "print(\"Predicted classes:\", y_pred_classes[:10].flatten())"
      ],
      "metadata": {
        "colab": {
          "base_uri": "https://localhost:8080/"
        },
        "id": "4mQM6qsNKT-9",
        "outputId": "f47dc453-6c9a-4c8b-d323-5567007b9a92"
      },
      "id": "4mQM6qsNKT-9",
      "execution_count": 119,
      "outputs": [
        {
          "output_type": "stream",
          "name": "stdout",
          "text": [
            "Predicted probabilities: [1.2075962e-25 6.9271626e-25 1.4649272e-07 8.6643389e-08 6.5011552e-09\n",
            " 1.6045803e-30 0.0000000e+00 2.7664161e-20 2.7629006e-15 2.2056058e-19]\n",
            "Predicted classes: [0 0 0 0 0 0 0 0 0 0]\n"
          ]
        }
      ]
    },
    {
      "cell_type": "code",
      "source": [
        "print(\"=================================================\")\n",
        "print(\"Binary Classification - Predictictive Maintenance\")\n",
        "print(\"=================================================\")\n",
        "print(\"Accuracy:\", accuracy_score(y_test, y_pred_classes))\n",
        "\n",
        "print(\"Classification Report:\\n\", classification_report(y_test, y_pred_classes,\n",
        "                                                        target_names=['No Anomaly','Anomaly']))\n",
        "sns.heatmap(confusion_matrix(y_test, y_pred_classes),annot=True,fmt='g',\n",
        "      yticklabels=['No Anomaly','Anomaly'],xticklabels=['No Anomaly','Anomaly'])\n",
        "plt.xlabel('Predicted')\n",
        "plt.ylabel('True')\n",
        "plt.tight_layout()\n",
        "plt.show()"
      ],
      "metadata": {
        "colab": {
          "base_uri": "https://localhost:8080/",
          "height": 737
        },
        "id": "mJrgkScDGnlu",
        "outputId": "44c663d4-6684-45dc-ab57-8c20426e5b82"
      },
      "id": "mJrgkScDGnlu",
      "execution_count": 121,
      "outputs": [
        {
          "output_type": "stream",
          "name": "stdout",
          "text": [
            "=================================================\n",
            "Binary Classification - Predictictive Maintenance\n",
            "=================================================\n",
            "Accuracy: 0.9923913043478261\n",
            "Classification Report:\n",
            "               precision    recall  f1-score   support\n",
            "\n",
            "  No Anomaly       1.00      1.00      1.00      3655\n",
            "     Anomaly       0.43      0.40      0.42        25\n",
            "\n",
            "    accuracy                           0.99      3680\n",
            "   macro avg       0.72      0.70      0.71      3680\n",
            "weighted avg       0.99      0.99      0.99      3680\n",
            "\n"
          ]
        },
        {
          "output_type": "display_data",
          "data": {
            "text/plain": [
              "<Figure size 640x480 with 2 Axes>"
            ],
            "image/png": "[encoded data removed]"
          },
          "metadata": {}
        }
      ]
    },
    {
      "cell_type": "markdown",
      "source": [
        "## Deep learning model not performing as good as our Random Forest model."
      ],
      "metadata": {
        "id": "EK-QsF2pOdHT"
      },
      "id": "EK-QsF2pOdHT"
    },
    {
      "cell_type": "code",
      "source": [],
      "metadata": {
        "id": "ijev5dLUOlbv"
      },
      "id": "ijev5dLUOlbv",
      "execution_count": null,
      "outputs": []
    }
  ],
  "metadata": {
    "kernelspec": {
      "display_name": "Python 3 (ipykernel)",
      "language": "python",
      "name": "python3"
    },
    "language_info": {
      "codemirror_mode": {
        "name": "ipython",
        "version": 3
      },
      "file_extension": ".py",
      "mimetype": "text/x-python",
      "name": "python",
      "nbconvert_exporter": "python",
      "pygments_lexer": "ipython3",
      "version": "3.11.8"
    },
    "colab": {
      "provenance": []
    },
    "widgets": {
      "application/vnd.jupyter.widget-state+json": {
        "ae1d1044626b48c9af82b6da8ea1cb31": {
          "model_module": "@jupyter-widgets/controls",
          "model_name": "HBoxModel",
          "model_module_version": "1.5.0",
          "state": {
            "_dom_classes": [],
            "_model_module": "@jupyter-widgets/controls",
            "_model_module_version": "1.5.0",
            "_model_name": "HBoxModel",
            "_view_count": null,
            "_view_module": "@jupyter-widgets/controls",
            "_view_module_version": "1.5.0",
            "_view_name": "HBoxView",
            "box_style": "",
            "children": [
              "IPY_MODEL_8bcddbf3727a4198843a9a82261321f9",
              "IPY_MODEL_595b6c5035f1477b8ba7214ab30e7ffb",
              "IPY_MODEL_f2e76fbab2d844f491dd1b71c5868957"
            ],
            "layout": "IPY_MODEL_7578672749d64270aed4e449895b67d7"
          }
        },
        "8bcddbf3727a4198843a9a82261321f9": {
          "model_module": "@jupyter-widgets/controls",
          "model_name": "HTMLModel",
          "model_module_version": "1.5.0",
          "state": {
            "_dom_classes": [],
            "_model_module": "@jupyter-widgets/controls",
            "_model_module_version": "1.5.0",
            "_model_name": "HTMLModel",
            "_view_count": null,
            "_view_module": "@jupyter-widgets/controls",
            "_view_module_version": "1.5.0",
            "_view_name": "HTMLView",
            "description": "",
            "description_tooltip": null,
            "layout": "IPY_MODEL_790e4f020d4b4614abf50e7d65f71e2a",
            "placeholder": "​",
            "style": "IPY_MODEL_9c372f71158745a4be1518cf7a9bd2be",
            "value": "Summarize dataset: 100%"
          }
        },
        "595b6c5035f1477b8ba7214ab30e7ffb": {
          "model_module": "@jupyter-widgets/controls",
          "model_name": "FloatProgressModel",
          "model_module_version": "1.5.0",
          "state": {
            "_dom_classes": [],
            "_model_module": "@jupyter-widgets/controls",
            "_model_module_version": "1.5.0",
            "_model_name": "FloatProgressModel",
            "_view_count": null,
            "_view_module": "@jupyter-widgets/controls",
            "_view_module_version": "1.5.0",
            "_view_name": "ProgressView",
            "bar_style": "success",
            "description": "",
            "description_tooltip": null,
            "layout": "IPY_MODEL_0bace58aac3442d1a1c57f4458067b91",
            "max": 5,
            "min": 0,
            "orientation": "horizontal",
            "style": "IPY_MODEL_ba4602b8e5da4bd2b9da4fa364781e7e",
            "value": 5
          }
        },
        "f2e76fbab2d844f491dd1b71c5868957": {
          "model_module": "@jupyter-widgets/controls",
          "model_name": "HTMLModel",
          "model_module_version": "1.5.0",
          "state": {
            "_dom_classes": [],
            "_model_module": "@jupyter-widgets/controls",
            "_model_module_version": "1.5.0",
            "_model_name": "HTMLModel",
            "_view_count": null,
            "_view_module": "@jupyter-widgets/controls",
            "_view_module_version": "1.5.0",
            "_view_name": "HTMLView",
            "description": "",
            "description_tooltip": null,
            "layout": "IPY_MODEL_49eb85ac557745aba1f54b92fbbbffbb",
            "placeholder": "​",
            "style": "IPY_MODEL_8cc2422c6d204576b05c65a28241a7ee",
            "value": " 3550/3550 [20:35&lt;00:00,  2.13it/s, Completed]"
          }
        },
        "7578672749d64270aed4e449895b67d7": {
          "model_module": "@jupyter-widgets/base",
          "model_name": "LayoutModel",
          "model_module_version": "1.2.0",
          "state": {
            "_model_module": "@jupyter-widgets/base",
            "_model_module_version": "1.2.0",
            "_model_name": "LayoutModel",
            "_view_count": null,
            "_view_module": "@jupyter-widgets/base",
            "_view_module_version": "1.2.0",
            "_view_name": "LayoutView",
            "align_content": null,
            "align_items": null,
            "align_self": null,
            "border": null,
            "bottom": null,
            "display": null,
            "flex": null,
            "flex_flow": null,
            "grid_area": null,
            "grid_auto_columns": null,
            "grid_auto_flow": null,
            "grid_auto_rows": null,
            "grid_column": null,
            "grid_gap": null,
            "grid_row": null,
            "grid_template_areas": null,
            "grid_template_columns": null,
            "grid_template_rows": null,
            "height": null,
            "justify_content": null,
            "justify_items": null,
            "left": null,
            "margin": null,
            "max_height": null,
            "max_width": null,
            "min_height": null,
            "min_width": null,
            "object_fit": null,
            "object_position": null,
            "order": null,
            "overflow": null,
            "overflow_x": null,
            "overflow_y": null,
            "padding": null,
            "right": null,
            "top": null,
            "visibility": null,
            "width": null
          }
        },
        "790e4f020d4b4614abf50e7d65f71e2a": {
          "model_module": "@jupyter-widgets/base",
          "model_name": "LayoutModel",
          "model_module_version": "1.2.0",
          "state": {
            "_model_module": "@jupyter-widgets/base",
            "_model_module_version": "1.2.0",
            "_model_name": "LayoutModel",
            "_view_count": null,
            "_view_module": "@jupyter-widgets/base",
            "_view_module_version": "1.2.0",
            "_view_name": "LayoutView",
            "align_content": null,
            "align_items": null,
            "align_self": null,
            "border": null,
            "bottom": null,
            "display": null,
            "flex": null,
            "flex_flow": null,
            "grid_area": null,
            "grid_auto_columns": null,
            "grid_auto_flow": null,
            "grid_auto_rows": null,
            "grid_column": null,
            "grid_gap": null,
            "grid_row": null,
            "grid_template_areas": null,
            "grid_template_columns": null,
            "grid_template_rows": null,
            "height": null,
            "justify_content": null,
            "justify_items": null,
            "left": null,
            "margin": null,
            "max_height": null,
            "max_width": null,
            "min_height": null,
            "min_width": null,
            "object_fit": null,
            "object_position": null,
            "order": null,
            "overflow": null,
            "overflow_x": null,
            "overflow_y": null,
            "padding": null,
            "right": null,
            "top": null,
            "visibility": null,
            "width": null
          }
        },
        "9c372f71158745a4be1518cf7a9bd2be": {
          "model_module": "@jupyter-widgets/controls",
          "model_name": "DescriptionStyleModel",
          "model_module_version": "1.5.0",
          "state": {
            "_model_module": "@jupyter-widgets/controls",
            "_model_module_version": "1.5.0",
            "_model_name": "DescriptionStyleModel",
            "_view_count": null,
            "_view_module": "@jupyter-widgets/base",
            "_view_module_version": "1.2.0",
            "_view_name": "StyleView",
            "description_width": ""
          }
        },
        "0bace58aac3442d1a1c57f4458067b91": {
          "model_module": "@jupyter-widgets/base",
          "model_name": "LayoutModel",
          "model_module_version": "1.2.0",
          "state": {
            "_model_module": "@jupyter-widgets/base",
            "_model_module_version": "1.2.0",
            "_model_name": "LayoutModel",
            "_view_count": null,
            "_view_module": "@jupyter-widgets/base",
            "_view_module_version": "1.2.0",
            "_view_name": "LayoutView",
            "align_content": null,
            "align_items": null,
            "align_self": null,
            "border": null,
            "bottom": null,
            "display": null,
            "flex": null,
            "flex_flow": null,
            "grid_area": null,
            "grid_auto_columns": null,
            "grid_auto_flow": null,
            "grid_auto_rows": null,
            "grid_column": null,
            "grid_gap": null,
            "grid_row": null,
            "grid_template_areas": null,
            "grid_template_columns": null,
            "grid_template_rows": null,
            "height": null,
            "justify_content": null,
            "justify_items": null,
            "left": null,
            "margin": null,
            "max_height": null,
            "max_width": null,
            "min_height": null,
            "min_width": null,
            "object_fit": null,
            "object_position": null,
            "order": null,
            "overflow": null,
            "overflow_x": null,
            "overflow_y": null,
            "padding": null,
            "right": null,
            "top": null,
            "visibility": null,
            "width": null
          }
        },
        "ba4602b8e5da4bd2b9da4fa364781e7e": {
          "model_module": "@jupyter-widgets/controls",
          "model_name": "ProgressStyleModel",
          "model_module_version": "1.5.0",
          "state": {
            "_model_module": "@jupyter-widgets/controls",
            "_model_module_version": "1.5.0",
            "_model_name": "ProgressStyleModel",
            "_view_count": null,
            "_view_module": "@jupyter-widgets/base",
            "_view_module_version": "1.2.0",
            "_view_name": "StyleView",
            "bar_color": null,
            "description_width": ""
          }
        },
        "49eb85ac557745aba1f54b92fbbbffbb": {
          "model_module": "@jupyter-widgets/base",
          "model_name": "LayoutModel",
          "model_module_version": "1.2.0",
          "state": {
            "_model_module": "@jupyter-widgets/base",
            "_model_module_version": "1.2.0",
            "_model_name": "LayoutModel",
            "_view_count": null,
            "_view_module": "@jupyter-widgets/base",
            "_view_module_version": "1.2.0",
            "_view_name": "LayoutView",
            "align_content": null,
            "align_items": null,
            "align_self": null,
            "border": null,
            "bottom": null,
            "display": null,
            "flex": null,
            "flex_flow": null,
            "grid_area": null,
            "grid_auto_columns": null,
            "grid_auto_flow": null,
            "grid_auto_rows": null,
            "grid_column": null,
            "grid_gap": null,
            "grid_row": null,
            "grid_template_areas": null,
            "grid_template_columns": null,
            "grid_template_rows": null,
            "height": null,
            "justify_content": null,
            "justify_items": null,
            "left": null,
            "margin": null,
            "max_height": null,
            "max_width": null,
            "min_height": null,
            "min_width": null,
            "object_fit": null,
            "object_position": null,
            "order": null,
            "overflow": null,
            "overflow_x": null,
            "overflow_y": null,
            "padding": null,
            "right": null,
            "top": null,
            "visibility": null,
            "width": null
          }
        },
        "8cc2422c6d204576b05c65a28241a7ee": {
          "model_module": "@jupyter-widgets/controls",
          "model_name": "DescriptionStyleModel",
          "model_module_version": "1.5.0",
          "state": {
            "_model_module": "@jupyter-widgets/controls",
            "_model_module_version": "1.5.0",
            "_model_name": "DescriptionStyleModel",
            "_view_count": null,
            "_view_module": "@jupyter-widgets/base",
            "_view_module_version": "1.2.0",
            "_view_name": "StyleView",
            "description_width": ""
          }
        },
        "6f11b19f98f24621b26cd59d123183a2": {
          "model_module": "@jupyter-widgets/controls",
          "model_name": "HBoxModel",
          "model_module_version": "1.5.0",
          "state": {
            "_dom_classes": [],
            "_model_module": "@jupyter-widgets/controls",
            "_model_module_version": "1.5.0",
            "_model_name": "HBoxModel",
            "_view_count": null,
            "_view_module": "@jupyter-widgets/controls",
            "_view_module_version": "1.5.0",
            "_view_name": "HBoxView",
            "box_style": "",
            "children": [
              "IPY_MODEL_6715c696b2e44a75880b494553ca20ce",
              "IPY_MODEL_647eae2c6bae4f6898fd07f222dc7412",
              "IPY_MODEL_a04cbabd2cf1408c945143059fd0c304"
            ],
            "layout": "IPY_MODEL_7cfb80aa32c749bba7ce9470fa17cc78"
          }
        },
        "6715c696b2e44a75880b494553ca20ce": {
          "model_module": "@jupyter-widgets/controls",
          "model_name": "HTMLModel",
          "model_module_version": "1.5.0",
          "state": {
            "_dom_classes": [],
            "_model_module": "@jupyter-widgets/controls",
            "_model_module_version": "1.5.0",
            "_model_name": "HTMLModel",
            "_view_count": null,
            "_view_module": "@jupyter-widgets/controls",
            "_view_module_version": "1.5.0",
            "_view_name": "HTMLView",
            "description": "",
            "description_tooltip": null,
            "layout": "IPY_MODEL_f67687b085e3404394913b1d8caeb40d",
            "placeholder": "​",
            "style": "IPY_MODEL_d00ac848fc394cc487d220422f177a7c",
            "value": "Generate report structure: 100%"
          }
        },
        "647eae2c6bae4f6898fd07f222dc7412": {
          "model_module": "@jupyter-widgets/controls",
          "model_name": "FloatProgressModel",
          "model_module_version": "1.5.0",
          "state": {
            "_dom_classes": [],
            "_model_module": "@jupyter-widgets/controls",
            "_model_module_version": "1.5.0",
            "_model_name": "FloatProgressModel",
            "_view_count": null,
            "_view_module": "@jupyter-widgets/controls",
            "_view_module_version": "1.5.0",
            "_view_name": "ProgressView",
            "bar_style": "success",
            "description": "",
            "description_tooltip": null,
            "layout": "IPY_MODEL_a4390dabf1c6465db9328603bc3ab3bd",
            "max": 1,
            "min": 0,
            "orientation": "horizontal",
            "style": "IPY_MODEL_835c23eb9370494fac56566c1a8f497c",
            "value": 1
          }
        },
        "a04cbabd2cf1408c945143059fd0c304": {
          "model_module": "@jupyter-widgets/controls",
          "model_name": "HTMLModel",
          "model_module_version": "1.5.0",
          "state": {
            "_dom_classes": [],
            "_model_module": "@jupyter-widgets/controls",
            "_model_module_version": "1.5.0",
            "_model_name": "HTMLModel",
            "_view_count": null,
            "_view_module": "@jupyter-widgets/controls",
            "_view_module_version": "1.5.0",
            "_view_name": "HTMLView",
            "description": "",
            "description_tooltip": null,
            "layout": "IPY_MODEL_02c8ad6c690a4705a5de76698ba1b3d3",
            "placeholder": "​",
            "style": "IPY_MODEL_4b08e65a3c0b4a7abeeb37447526abef",
            "value": " 1/1 [00:43&lt;00:00, 43.49s/it]"
          }
        },
        "7cfb80aa32c749bba7ce9470fa17cc78": {
          "model_module": "@jupyter-widgets/base",
          "model_name": "LayoutModel",
          "model_module_version": "1.2.0",
          "state": {
            "_model_module": "@jupyter-widgets/base",
            "_model_module_version": "1.2.0",
            "_model_name": "LayoutModel",
            "_view_count": null,
            "_view_module": "@jupyter-widgets/base",
            "_view_module_version": "1.2.0",
            "_view_name": "LayoutView",
            "align_content": null,
            "align_items": null,
            "align_self": null,
            "border": null,
            "bottom": null,
            "display": null,
            "flex": null,
            "flex_flow": null,
            "grid_area": null,
            "grid_auto_columns": null,
            "grid_auto_flow": null,
            "grid_auto_rows": null,
            "grid_column": null,
            "grid_gap": null,
            "grid_row": null,
            "grid_template_areas": null,
            "grid_template_columns": null,
            "grid_template_rows": null,
            "height": null,
            "justify_content": null,
            "justify_items": null,
            "left": null,
            "margin": null,
            "max_height": null,
            "max_width": null,
            "min_height": null,
            "min_width": null,
            "object_fit": null,
            "object_position": null,
            "order": null,
            "overflow": null,
            "overflow_x": null,
            "overflow_y": null,
            "padding": null,
            "right": null,
            "top": null,
            "visibility": null,
            "width": null
          }
        },
        "f67687b085e3404394913b1d8caeb40d": {
          "model_module": "@jupyter-widgets/base",
          "model_name": "LayoutModel",
          "model_module_version": "1.2.0",
          "state": {
            "_model_module": "@jupyter-widgets/base",
            "_model_module_version": "1.2.0",
            "_model_name": "LayoutModel",
            "_view_count": null,
            "_view_module": "@jupyter-widgets/base",
            "_view_module_version": "1.2.0",
            "_view_name": "LayoutView",
            "align_content": null,
            "align_items": null,
            "align_self": null,
            "border": null,
            "bottom": null,
            "display": null,
            "flex": null,
            "flex_flow": null,
            "grid_area": null,
            "grid_auto_columns": null,
            "grid_auto_flow": null,
            "grid_auto_rows": null,
            "grid_column": null,
            "grid_gap": null,
            "grid_row": null,
            "grid_template_areas": null,
            "grid_template_columns": null,
            "grid_template_rows": null,
            "height": null,
            "justify_content": null,
            "justify_items": null,
            "left": null,
            "margin": null,
            "max_height": null,
            "max_width": null,
            "min_height": null,
            "min_width": null,
            "object_fit": null,
            "object_position": null,
            "order": null,
            "overflow": null,
            "overflow_x": null,
            "overflow_y": null,
            "padding": null,
            "right": null,
            "top": null,
            "visibility": null,
            "width": null
          }
        },
        "d00ac848fc394cc487d220422f177a7c": {
          "model_module": "@jupyter-widgets/controls",
          "model_name": "DescriptionStyleModel",
          "model_module_version": "1.5.0",
          "state": {
            "_model_module": "@jupyter-widgets/controls",
            "_model_module_version": "1.5.0",
            "_model_name": "DescriptionStyleModel",
            "_view_count": null,
            "_view_module": "@jupyter-widgets/base",
            "_view_module_version": "1.2.0",
            "_view_name": "StyleView",
            "description_width": ""
          }
        },
        "a4390dabf1c6465db9328603bc3ab3bd": {
          "model_module": "@jupyter-widgets/base",
          "model_name": "LayoutModel",
          "model_module_version": "1.2.0",
          "state": {
            "_model_module": "@jupyter-widgets/base",
            "_model_module_version": "1.2.0",
            "_model_name": "LayoutModel",
            "_view_count": null,
            "_view_module": "@jupyter-widgets/base",
            "_view_module_version": "1.2.0",
            "_view_name": "LayoutView",
            "align_content": null,
            "align_items": null,
            "align_self": null,
            "border": null,
            "bottom": null,
            "display": null,
            "flex": null,
            "flex_flow": null,
            "grid_area": null,
            "grid_auto_columns": null,
            "grid_auto_flow": null,
            "grid_auto_rows": null,
            "grid_column": null,
            "grid_gap": null,
            "grid_row": null,
            "grid_template_areas": null,
            "grid_template_columns": null,
            "grid_template_rows": null,
            "height": null,
            "justify_content": null,
            "justify_items": null,
            "left": null,
            "margin": null,
            "max_height": null,
            "max_width": null,
            "min_height": null,
            "min_width": null,
            "object_fit": null,
            "object_position": null,
            "order": null,
            "overflow": null,
            "overflow_x": null,
            "overflow_y": null,
            "padding": null,
            "right": null,
            "top": null,
            "visibility": null,
            "width": null
          }
        },
        "835c23eb9370494fac56566c1a8f497c": {
          "model_module": "@jupyter-widgets/controls",
          "model_name": "ProgressStyleModel",
          "model_module_version": "1.5.0",
          "state": {
            "_model_module": "@jupyter-widgets/controls",
            "_model_module_version": "1.5.0",
            "_model_name": "ProgressStyleModel",
            "_view_count": null,
            "_view_module": "@jupyter-widgets/base",
            "_view_module_version": "1.2.0",
            "_view_name": "StyleView",
            "bar_color": null,
            "description_width": ""
          }
        },
        "02c8ad6c690a4705a5de76698ba1b3d3": {
          "model_module": "@jupyter-widgets/base",
          "model_name": "LayoutModel",
          "model_module_version": "1.2.0",
          "state": {
            "_model_module": "@jupyter-widgets/base",
            "_model_module_version": "1.2.0",
            "_model_name": "LayoutModel",
            "_view_count": null,
            "_view_module": "@jupyter-widgets/base",
            "_view_module_version": "1.2.0",
            "_view_name": "LayoutView",
            "align_content": null,
            "align_items": null,
            "align_self": null,
            "border": null,
            "bottom": null,
            "display": null,
            "flex": null,
            "flex_flow": null,
            "grid_area": null,
            "grid_auto_columns": null,
            "grid_auto_flow": null,
            "grid_auto_rows": null,
            "grid_column": null,
            "grid_gap": null,
            "grid_row": null,
            "grid_template_areas": null,
            "grid_template_columns": null,
            "grid_template_rows": null,
            "height": null,
            "justify_content": null,
            "justify_items": null,
            "left": null,
            "margin": null,
            "max_height": null,
            "max_width": null,
            "min_height": null,
            "min_width": null,
            "object_fit": null,
            "object_position": null,
            "order": null,
            "overflow": null,
            "overflow_x": null,
            "overflow_y": null,
            "padding": null,
            "right": null,
            "top": null,
            "visibility": null,
            "width": null
          }
        },
        "4b08e65a3c0b4a7abeeb37447526abef": {
          "model_module": "@jupyter-widgets/controls",
          "model_name": "DescriptionStyleModel",
          "model_module_version": "1.5.0",
          "state": {
            "_model_module": "@jupyter-widgets/controls",
            "_model_module_version": "1.5.0",
            "_model_name": "DescriptionStyleModel",
            "_view_count": null,
            "_view_module": "@jupyter-widgets/base",
            "_view_module_version": "1.2.0",
            "_view_name": "StyleView",
            "description_width": ""
          }
        },
        "30c97075fb804c3d8c7983467d6a8d3d": {
          "model_module": "@jupyter-widgets/controls",
          "model_name": "HBoxModel",
          "model_module_version": "1.5.0",
          "state": {
            "_dom_classes": [],
            "_model_module": "@jupyter-widgets/controls",
            "_model_module_version": "1.5.0",
            "_model_name": "HBoxModel",
            "_view_count": null,
            "_view_module": "@jupyter-widgets/controls",
            "_view_module_version": "1.5.0",
            "_view_name": "HBoxView",
            "box_style": "",
            "children": [
              "IPY_MODEL_9014b5bf58f7498ea45865c9aa5156c3",
              "IPY_MODEL_2d4277695a5643f7b53fa17cf8ec46ec",
              "IPY_MODEL_308d6dfcf12d46bcb3ba01db5bfc3359"
            ],
            "layout": "IPY_MODEL_c9a0475837d14690b53fa8a9175631f8"
          }
        },
        "9014b5bf58f7498ea45865c9aa5156c3": {
          "model_module": "@jupyter-widgets/controls",
          "model_name": "HTMLModel",
          "model_module_version": "1.5.0",
          "state": {
            "_dom_classes": [],
            "_model_module": "@jupyter-widgets/controls",
            "_model_module_version": "1.5.0",
            "_model_name": "HTMLModel",
            "_view_count": null,
            "_view_module": "@jupyter-widgets/controls",
            "_view_module_version": "1.5.0",
            "_view_name": "HTMLView",
            "description": "",
            "description_tooltip": null,
            "layout": "IPY_MODEL_db3843586ad84d7fb478c7098032cb44",
            "placeholder": "​",
            "style": "IPY_MODEL_4df6f6e1e7d34b9cbac1015c7d5ebe88",
            "value": "Render HTML: 100%"
          }
        },
        "2d4277695a5643f7b53fa17cf8ec46ec": {
          "model_module": "@jupyter-widgets/controls",
          "model_name": "FloatProgressModel",
          "model_module_version": "1.5.0",
          "state": {
            "_dom_classes": [],
            "_model_module": "@jupyter-widgets/controls",
            "_model_module_version": "1.5.0",
            "_model_name": "FloatProgressModel",
            "_view_count": null,
            "_view_module": "@jupyter-widgets/controls",
            "_view_module_version": "1.5.0",
            "_view_name": "ProgressView",
            "bar_style": "success",
            "description": "",
            "description_tooltip": null,
            "layout": "IPY_MODEL_3ffd00ce71e14f12a963587ebfcb793a",
            "max": 1,
            "min": 0,
            "orientation": "horizontal",
            "style": "IPY_MODEL_6eaf5caef80d4b59947ae58326ce3411",
            "value": 1
          }
        },
        "308d6dfcf12d46bcb3ba01db5bfc3359": {
          "model_module": "@jupyter-widgets/controls",
          "model_name": "HTMLModel",
          "model_module_version": "1.5.0",
          "state": {
            "_dom_classes": [],
            "_model_module": "@jupyter-widgets/controls",
            "_model_module_version": "1.5.0",
            "_model_name": "HTMLModel",
            "_view_count": null,
            "_view_module": "@jupyter-widgets/controls",
            "_view_module_version": "1.5.0",
            "_view_name": "HTMLView",
            "description": "",
            "description_tooltip": null,
            "layout": "IPY_MODEL_27f7926adcde4e528312f12faeaf0c58",
            "placeholder": "​",
            "style": "IPY_MODEL_3e4b76a248c343c6b90e34ec84f88652",
            "value": " 1/1 [01:46&lt;00:00, 106.04s/it]"
          }
        },
        "c9a0475837d14690b53fa8a9175631f8": {
          "model_module": "@jupyter-widgets/base",
          "model_name": "LayoutModel",
          "model_module_version": "1.2.0",
          "state": {
            "_model_module": "@jupyter-widgets/base",
            "_model_module_version": "1.2.0",
            "_model_name": "LayoutModel",
            "_view_count": null,
            "_view_module": "@jupyter-widgets/base",
            "_view_module_version": "1.2.0",
            "_view_name": "LayoutView",
            "align_content": null,
            "align_items": null,
            "align_self": null,
            "border": null,
            "bottom": null,
            "display": null,
            "flex": null,
            "flex_flow": null,
            "grid_area": null,
            "grid_auto_columns": null,
            "grid_auto_flow": null,
            "grid_auto_rows": null,
            "grid_column": null,
            "grid_gap": null,
            "grid_row": null,
            "grid_template_areas": null,
            "grid_template_columns": null,
            "grid_template_rows": null,
            "height": null,
            "justify_content": null,
            "justify_items": null,
            "left": null,
            "margin": null,
            "max_height": null,
            "max_width": null,
            "min_height": null,
            "min_width": null,
            "object_fit": null,
            "object_position": null,
            "order": null,
            "overflow": null,
            "overflow_x": null,
            "overflow_y": null,
            "padding": null,
            "right": null,
            "top": null,
            "visibility": null,
            "width": null
          }
        },
        "db3843586ad84d7fb478c7098032cb44": {
          "model_module": "@jupyter-widgets/base",
          "model_name": "LayoutModel",
          "model_module_version": "1.2.0",
          "state": {
            "_model_module": "@jupyter-widgets/base",
            "_model_module_version": "1.2.0",
            "_model_name": "LayoutModel",
            "_view_count": null,
            "_view_module": "@jupyter-widgets/base",
            "_view_module_version": "1.2.0",
            "_view_name": "LayoutView",
            "align_content": null,
            "align_items": null,
            "align_self": null,
            "border": null,
            "bottom": null,
            "display": null,
            "flex": null,
            "flex_flow": null,
            "grid_area": null,
            "grid_auto_columns": null,
            "grid_auto_flow": null,
            "grid_auto_rows": null,
            "grid_column": null,
            "grid_gap": null,
            "grid_row": null,
            "grid_template_areas": null,
            "grid_template_columns": null,
            "grid_template_rows": null,
            "height": null,
            "justify_content": null,
            "justify_items": null,
            "left": null,
            "margin": null,
            "max_height": null,
            "max_width": null,
            "min_height": null,
            "min_width": null,
            "object_fit": null,
            "object_position": null,
            "order": null,
            "overflow": null,
            "overflow_x": null,
            "overflow_y": null,
            "padding": null,
            "right": null,
            "top": null,
            "visibility": null,
            "width": null
          }
        },
        "4df6f6e1e7d34b9cbac1015c7d5ebe88": {
          "model_module": "@jupyter-widgets/controls",
          "model_name": "DescriptionStyleModel",
          "model_module_version": "1.5.0",
          "state": {
            "_model_module": "@jupyter-widgets/controls",
            "_model_module_version": "1.5.0",
            "_model_name": "DescriptionStyleModel",
            "_view_count": null,
            "_view_module": "@jupyter-widgets/base",
            "_view_module_version": "1.2.0",
            "_view_name": "StyleView",
            "description_width": ""
          }
        },
        "3ffd00ce71e14f12a963587ebfcb793a": {
          "model_module": "@jupyter-widgets/base",
          "model_name": "LayoutModel",
          "model_module_version": "1.2.0",
          "state": {
            "_model_module": "@jupyter-widgets/base",
            "_model_module_version": "1.2.0",
            "_model_name": "LayoutModel",
            "_view_count": null,
            "_view_module": "@jupyter-widgets/base",
            "_view_module_version": "1.2.0",
            "_view_name": "LayoutView",
            "align_content": null,
            "align_items": null,
            "align_self": null,
            "border": null,
            "bottom": null,
            "display": null,
            "flex": null,
            "flex_flow": null,
            "grid_area": null,
            "grid_auto_columns": null,
            "grid_auto_flow": null,
            "grid_auto_rows": null,
            "grid_column": null,
            "grid_gap": null,
            "grid_row": null,
            "grid_template_areas": null,
            "grid_template_columns": null,
            "grid_template_rows": null,
            "height": null,
            "justify_content": null,
            "justify_items": null,
            "left": null,
            "margin": null,
            "max_height": null,
            "max_width": null,
            "min_height": null,
            "min_width": null,
            "object_fit": null,
            "object_position": null,
            "order": null,
            "overflow": null,
            "overflow_x": null,
            "overflow_y": null,
            "padding": null,
            "right": null,
            "top": null,
            "visibility": null,
            "width": null
          }
        },
        "6eaf5caef80d4b59947ae58326ce3411": {
          "model_module": "@jupyter-widgets/controls",
          "model_name": "ProgressStyleModel",
          "model_module_version": "1.5.0",
          "state": {
            "_model_module": "@jupyter-widgets/controls",
            "_model_module_version": "1.5.0",
            "_model_name": "ProgressStyleModel",
            "_view_count": null,
            "_view_module": "@jupyter-widgets/base",
            "_view_module_version": "1.2.0",
            "_view_name": "StyleView",
            "bar_color": null,
            "description_width": ""
          }
        },
        "27f7926adcde4e528312f12faeaf0c58": {
          "model_module": "@jupyter-widgets/base",
          "model_name": "LayoutModel",
          "model_module_version": "1.2.0",
          "state": {
            "_model_module": "@jupyter-widgets/base",
            "_model_module_version": "1.2.0",
            "_model_name": "LayoutModel",
            "_view_count": null,
            "_view_module": "@jupyter-widgets/base",
            "_view_module_version": "1.2.0",
            "_view_name": "LayoutView",
            "align_content": null,
            "align_items": null,
            "align_self": null,
            "border": null,
            "bottom": null,
            "display": null,
            "flex": null,
            "flex_flow": null,
            "grid_area": null,
            "grid_auto_columns": null,
            "grid_auto_flow": null,
            "grid_auto_rows": null,
            "grid_column": null,
            "grid_gap": null,
            "grid_row": null,
            "grid_template_areas": null,
            "grid_template_columns": null,
            "grid_template_rows": null,
            "height": null,
            "justify_content": null,
            "justify_items": null,
            "left": null,
            "margin": null,
            "max_height": null,
            "max_width": null,
            "min_height": null,
            "min_width": null,
            "object_fit": null,
            "object_position": null,
            "order": null,
            "overflow": null,
            "overflow_x": null,
            "overflow_y": null,
            "padding": null,
            "right": null,
            "top": null,
            "visibility": null,
            "width": null
          }
        },
        "3e4b76a248c343c6b90e34ec84f88652": {
          "model_module": "@jupyter-widgets/controls",
          "model_name": "DescriptionStyleModel",
          "model_module_version": "1.5.0",
          "state": {
            "_model_module": "@jupyter-widgets/controls",
            "_model_module_version": "1.5.0",
            "_model_name": "DescriptionStyleModel",
            "_view_count": null,
            "_view_module": "@jupyter-widgets/base",
            "_view_module_version": "1.2.0",
            "_view_name": "StyleView",
            "description_width": ""
          }
        }
      }
    }
  },
  "nbformat": 4,
  "nbformat_minor": 5
}